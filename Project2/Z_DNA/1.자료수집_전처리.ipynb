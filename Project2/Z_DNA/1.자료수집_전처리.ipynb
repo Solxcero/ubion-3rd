{
 "cells": [
  {
   "cell_type": "markdown",
   "metadata": {},
   "source": [
    "## 자료 수집"
   ]
  },
  {
   "cell_type": "markdown",
   "metadata": {},
   "source": [
    "##### 라이브러리"
   ]
  },
  {
   "cell_type": "code",
   "execution_count": 1,
   "metadata": {},
   "outputs": [],
   "source": [
    "import pandas as pd\n",
    "import matplotlib.pyplot as plt\n",
    "import seaborn as sns \n",
    "import numpy as np\n",
    "import warnings\n",
    "warnings.filterwarnings('ignore')"
   ]
  },
  {
   "cell_type": "markdown",
   "metadata": {},
   "source": [
    "### 부도 기업 뽑기\n",
    "`대상` : 코스닥  \n",
    "`기간` : 2000~2017  \n",
    "`부도 정의` : 부도발생, 화의절차개시신청, 회사정리절차,개시신청, 감사인의 의견 거절, 은행거래 정지--> 자본전액잠식, 감사의견 부적정 추가   \n",
    "[`추가논의사항`](http://listing.krx.co.kr/contents/LST/04/04020500/LST04020500.jsp)\n",
    "> **상장폐지현황.xlsx** : KIND에서 뽑은 해당 기간 상장폐지기업 데이터"
   ]
  },
  {
   "cell_type": "code",
   "execution_count": 2,
   "metadata": {},
   "outputs": [
    {
     "data": {
      "text/html": [
       "<div>\n",
       "<style scoped>\n",
       "    .dataframe tbody tr th:only-of-type {\n",
       "        vertical-align: middle;\n",
       "    }\n",
       "\n",
       "    .dataframe tbody tr th {\n",
       "        vertical-align: top;\n",
       "    }\n",
       "\n",
       "    .dataframe thead th {\n",
       "        text-align: right;\n",
       "    }\n",
       "</style>\n",
       "<table border=\"1\" class=\"dataframe\">\n",
       "  <thead>\n",
       "    <tr style=\"text-align: right;\">\n",
       "      <th></th>\n",
       "      <th>회사명</th>\n",
       "      <th>종목코드</th>\n",
       "      <th>폐지일자</th>\n",
       "      <th>폐지사유</th>\n",
       "      <th>비고</th>\n",
       "    </tr>\n",
       "  </thead>\n",
       "  <tbody>\n",
       "    <tr>\n",
       "      <th>0</th>\n",
       "      <td>라인건설</td>\n",
       "      <td>17620</td>\n",
       "      <td>2000-06-07</td>\n",
       "      <td>최종부도 또는 당좌거래정지(1년) , 기타 등록취소</td>\n",
       "      <td>NaN</td>\n",
       "    </tr>\n",
       "    <tr>\n",
       "      <th>194</th>\n",
       "      <td>삼주건설</td>\n",
       "      <td>25150</td>\n",
       "      <td>2000-06-07</td>\n",
       "      <td>주식분산기준미달 , 자본전액잠식(2년)</td>\n",
       "      <td>NaN</td>\n",
       "    </tr>\n",
       "    <tr>\n",
       "      <th>200</th>\n",
       "      <td>삼경정밀</td>\n",
       "      <td>13320</td>\n",
       "      <td>2000-06-07</td>\n",
       "      <td>자본전액잠식(2년)</td>\n",
       "      <td>NaN</td>\n",
       "    </tr>\n",
       "    <tr>\n",
       "      <th>199</th>\n",
       "      <td>동양기공</td>\n",
       "      <td>18720</td>\n",
       "      <td>2000-06-07</td>\n",
       "      <td>자본전액잠식(2년) , 기타 등록취소</td>\n",
       "      <td>NaN</td>\n",
       "    </tr>\n",
       "    <tr>\n",
       "      <th>198</th>\n",
       "      <td>금강정공</td>\n",
       "      <td>22770</td>\n",
       "      <td>2000-06-07</td>\n",
       "      <td>자본전액잠식(2년) , 기타 등록취소</td>\n",
       "      <td>NaN</td>\n",
       "    </tr>\n",
       "    <tr>\n",
       "      <th>...</th>\n",
       "      <td>...</td>\n",
       "      <td>...</td>\n",
       "      <td>...</td>\n",
       "      <td>...</td>\n",
       "      <td>...</td>\n",
       "    </tr>\n",
       "    <tr>\n",
       "      <th>189</th>\n",
       "      <td>아이팩토리</td>\n",
       "      <td>53810</td>\n",
       "      <td>2016-09-19</td>\n",
       "      <td>감사의견 거절(감사범위 제한 및 기업회계기준 위배)</td>\n",
       "      <td>NaN</td>\n",
       "    </tr>\n",
       "    <tr>\n",
       "      <th>253</th>\n",
       "      <td>우전</td>\n",
       "      <td>52270</td>\n",
       "      <td>2017-04-13</td>\n",
       "      <td>자본전액잠식 등</td>\n",
       "      <td>NaN</td>\n",
       "    </tr>\n",
       "    <tr>\n",
       "      <th>190</th>\n",
       "      <td>신양오라컴</td>\n",
       "      <td>86830</td>\n",
       "      <td>2017-05-08</td>\n",
       "      <td>감사의견 거절(감사범위 제한 및 계속기업 존속능력에 대한 불확실성)</td>\n",
       "      <td>NaN</td>\n",
       "    </tr>\n",
       "    <tr>\n",
       "      <th>191</th>\n",
       "      <td>에스에스컴텍</td>\n",
       "      <td>36500</td>\n",
       "      <td>2017-05-11</td>\n",
       "      <td>감사의견 거절(감사범위 제한 및 계속기업 존속능력에 대한 불확실성)</td>\n",
       "      <td>NaN</td>\n",
       "    </tr>\n",
       "    <tr>\n",
       "      <th>192</th>\n",
       "      <td>엔에스브이</td>\n",
       "      <td>95300</td>\n",
       "      <td>2017-09-12</td>\n",
       "      <td>감사의견 거절(내부회계관리제도상의 취약점, 계속기업가정의 불확실성 및 재고자산 관련...</td>\n",
       "      <td>NaN</td>\n",
       "    </tr>\n",
       "  </tbody>\n",
       "</table>\n",
       "<p>261 rows × 5 columns</p>\n",
       "</div>"
      ],
      "text/plain": [
       "        회사명   종목코드       폐지일자  \\\n",
       "0      라인건설  17620 2000-06-07   \n",
       "194    삼주건설  25150 2000-06-07   \n",
       "200    삼경정밀  13320 2000-06-07   \n",
       "199    동양기공  18720 2000-06-07   \n",
       "198    금강정공  22770 2000-06-07   \n",
       "..      ...    ...        ...   \n",
       "189   아이팩토리  53810 2016-09-19   \n",
       "253      우전  52270 2017-04-13   \n",
       "190   신양오라컴  86830 2017-05-08   \n",
       "191  에스에스컴텍  36500 2017-05-11   \n",
       "192   엔에스브이  95300 2017-09-12   \n",
       "\n",
       "                                                  폐지사유   비고  \n",
       "0                         최종부도 또는 당좌거래정지(1년) , 기타 등록취소  NaN  \n",
       "194                              주식분산기준미달 , 자본전액잠식(2년)  NaN  \n",
       "200                                         자본전액잠식(2년)  NaN  \n",
       "199                               자본전액잠식(2년) , 기타 등록취소  NaN  \n",
       "198                               자본전액잠식(2년) , 기타 등록취소  NaN  \n",
       "..                                                 ...  ...  \n",
       "189                       감사의견 거절(감사범위 제한 및 기업회계기준 위배)  NaN  \n",
       "253                                           자본전액잠식 등  NaN  \n",
       "190              감사의견 거절(감사범위 제한 및 계속기업 존속능력에 대한 불확실성)  NaN  \n",
       "191              감사의견 거절(감사범위 제한 및 계속기업 존속능력에 대한 불확실성)  NaN  \n",
       "192  감사의견 거절(내부회계관리제도상의 취약점, 계속기업가정의 불확실성 및 재고자산 관련...  NaN  \n",
       "\n",
       "[261 rows x 5 columns]"
      ]
     },
     "execution_count": 2,
     "metadata": {},
     "output_type": "execute_result"
    }
   ],
   "source": [
    "ksd = pd.read_excel('../Data/상장폐지현황.xlsx',engine='openpyxl')\n",
    "ksd = ksd.sort_values('번호')\n",
    "\n",
    "# 상장폐지사유에서 부도 정의 기업 뽑기 \n",
    "default = ksd[ksd['폐지사유'].str.contains('부도')]\n",
    "composition =ksd[ksd['폐지사유'].str.contains('화의절차개시신청')]\n",
    "disclaimer = ksd[ksd['폐지사유'].str.contains('감사의견거절')]\n",
    "disclaimer_2 = ksd[ksd['폐지사유'].str.contains('의견 거절')]\n",
    "suspension = ksd[ksd['폐지사유'].str.contains('은행거래정지')]\t\n",
    "liquidation = ksd[ksd['폐지사유'].str.contains('회사정리절차')]\n",
    "afc = ksd[ksd['폐지사유'].str.contains('개시신청')]#Application for commencement\n",
    "erosion = ksd[ksd['폐지사유'].str.contains('전액잠식')] #완전잠식기업 \n",
    "adverse_opinion = ksd[ksd['폐지사유'].str.contains('부적정')] #감사의견 부적정 \n",
    "\n",
    "# outer join 으로 중복되는 경우 없이 뽑기 \n",
    "ksd_default = pd.merge(default, composition,how='outer')\n",
    "ksd_default = pd.merge(ksd_default,disclaimer,how='outer')\n",
    "ksd_default = pd.merge(ksd_default,suspension,how='outer')\n",
    "ksd_default = pd.merge(ksd_default,disclaimer_2,how='outer')\n",
    "ksd_default = pd.merge(ksd_default,liquidation,how='outer')\n",
    "ksd_default = pd.merge(ksd_default,afc,how='outer')\n",
    "ksd_default = pd.merge(ksd_default,erosion,how='outer')\n",
    "ksd_default = pd.merge(ksd_default,adverse_opinion,how='outer')\n",
    "\n",
    "\n",
    "\n",
    "ksd_default.set_index('번호',inplace=True)\n",
    "ksd_default.reset_index(drop=True,inplace=True)\n",
    "\n",
    "ksd_default.sort_values('폐지일자')\n",
    "\n",
    "#필터링 한 코드 저장\n",
    "# ksd_default.to_csv('../Data/ksd_default.csv',index=False,encoding='cp949') \n",
    "# 부도 정의 개념 넓힌 결과 194개에서 261개로 부도기업 수 증가"
   ]
  },
  {
   "cell_type": "markdown",
   "metadata": {},
   "source": [
    "### 전체 기업 데이터\n",
    "> **ksd_default.csv** : 부도 정의에 부합하는 상장폐지 기업들   \n",
    "  **origin_raw.xlsx** : ts2000 수집기간 코스닥 전체 기업의 재무변수 데이터_ 부도 기업에 대해서는 결측치 Dart에서 찾아서 채워둠\n"
   ]
  },
  {
   "cell_type": "code",
   "execution_count": 3,
   "metadata": {},
   "outputs": [],
   "source": [
    "ksd_default = pd.read_csv('../Data/ksd_default.csv',encoding='cp949') #위에서 저장한 부도 기업 불러오기 \n",
    "RAW = pd.read_excel('../Data/origin_raw.xlsx',engine='openpyxl') #재무변동성 코드 추가 전, ts2000 + DART 직접 기입 한 자료 \n",
    "RAW = RAW.sort_values(by=['회사명','회계년도'],ascending=[True,True])\n",
    "RAW.reset_index(drop=True,inplace=True)"
   ]
  },
  {
   "cell_type": "markdown",
   "metadata": {},
   "source": [
    "### 변수 생성"
   ]
  },
  {
   "cell_type": "code",
   "execution_count": 4,
   "metadata": {},
   "outputs": [],
   "source": [
    "#변수생성\n",
    "RAW['현금순환주기'] = RAW['재고자산회전기간'] + RAW['매출채권회전기간'] - RAW['매입채무회전기간']\n",
    "RAW['WCTA'] = RAW['유동자산'] / RAW['자산']\n",
    "RAW['RETA'] = RAW['이익잉여금'] / RAW['자산']\n",
    "RAW['TLTA'] = RAW['부채'] /RAW['자산']\n",
    "RAW['이자보상배율'] = RAW['영업이익(손실)']/RAW['이자비용']\n",
    "\n",
    "#재무상태변동성 변수 만들기\n",
    "volatility = [\"회사명\", '유동비율','매출액증가율','유형자산증가율','총자본증가율','매출액총이익률',\n",
    "             '매출액영업이익률','자기자본순이익률','총자본영업이익률','당좌비율','부채비율',\n",
    "             '이자보상배율','재고자산회전률','매출채권회전률','총자본회전률','매입채무회전률']\n",
    "RAW_1 = RAW[volatility]\n",
    "names = RAW_1[\"회사명\"].unique()\n",
    "subset = []\n",
    "for name in names :\n",
    "    k = RAW_1.loc[RAW_1[\"회사명\"] == name].iloc[:,1:]\n",
    "    a = (k - k.shift(1)).fillna(0)\n",
    "    subset.append(a)\n",
    "col_new = pd.concat(subset)\n",
    "for i in col_new :\n",
    "    col_new.rename(columns={i:f\"vol{i}\"}, inplace=True)\n",
    "# col_new\n",
    "RAW_2= pd.concat([RAW,col_new],axis=1)"
   ]
  },
  {
   "cell_type": "markdown",
   "metadata": {},
   "source": [
    "### 부도기업 라벨링\n",
    "1. **RAW_2**     \n",
    "    부도 직전 년도 라벨 : 1    \n",
    "    부도 직전전 년도 라벨 : 0.5      \n",
    "2. **RAW_3**   \n",
    "    부도 라벨 0.5 빼기 \n"
   ]
  },
  {
   "cell_type": "code",
   "execution_count": 5,
   "metadata": {},
   "outputs": [],
   "source": [
    "default_label = ksd_default['종목코드'].tolist()\n",
    "\n",
    "RAW_2['부도'] = 0\n",
    "\n",
    "a = RAW_2[RAW_2['거래소코드'].isin(default_label)]\n",
    "company=a['회사명'].unique() #부도기업 고유이름 \n",
    "\n",
    "lst = [] #부도만 담을 빈 리스트 생성\n",
    "lst2 = [] # 그레이존만 담은 빈 리스트 생성\n",
    "for i in range(len(company)):\n",
    "    lst.append((RAW_2[RAW_2['회사명']== company[i]]['부도'].index[-1]))\n",
    "    if int(len(RAW_2[RAW_2['회사명']== company[i]])>1):    \n",
    "        lst2.append((RAW_2[RAW_2['회사명']== company[i]]['부도'].index[-2]))\n",
    "    #회사명이 부도인 애들만 골라서, 그중 맨 최근컬럼을 빈 리스트에 append \n",
    "    \n",
    "for i in range(len(lst)):\n",
    "    RAW_2.loc[lst[i],'부도'] = 1\n",
    "    \n",
    "for i in range(len(lst2)):    \n",
    "    RAW_2.loc[lst2[i],'부도'] = 0.5\n",
    "    #부도기업 리스트인 것에 1값 부여 \n",
    "# RAW_2"
   ]
  },
  {
   "cell_type": "code",
   "execution_count": 204,
   "metadata": {},
   "outputs": [],
   "source": [
    "RAW_3 = RAW_2[(RAW_2['부도'] !=0.5)]\n",
    "default = RAW_3[RAW_3['부도']==1]\n",
    "default.loc[(default.유동비율.isna())|(default.자산.isna())]"
   ]
  },
  {
   "cell_type": "code",
   "execution_count": 209,
   "metadata": {},
   "outputs": [],
   "source": [
    "# drop =['매입채무회전기간','재고자산회전기간','매출채권회전기간', '영업이익(손실)', '자산', '부채', '유동자산', '이익잉여금', '이자비용']\n",
    "# RAW_2.drop(drop,axis=1,inplace=True)\n",
    "# # RAW_2.to_csv('../Data/origin_labeled.csv',index= False, encoding='cp949')"
   ]
  },
  {
   "cell_type": "code",
   "execution_count": null,
   "metadata": {},
   "outputs": [],
   "source": [
    "drop =['매입채무회전기간','재고자산회전기간','매출채권회전기간', '영업이익(손실)', '자산', '부채', '유동자산', '이익잉여금', '이자비용']\n",
    "RAW_3.drop(drop,axis=1,inplace=True)\n",
    "# RAW_3.to_csv('../Data/origin_labeled.csv',index= False, encoding='cp949')"
   ]
  },
  {
   "cell_type": "markdown",
   "metadata": {},
   "source": [
    "## 전처리"
   ]
  },
  {
   "cell_type": "markdown",
   "metadata": {},
   "source": [
    "### 라이브러리 "
   ]
  },
  {
   "cell_type": "code",
   "execution_count": 6,
   "metadata": {},
   "outputs": [],
   "source": [
    "import pandas as pd\n",
    "import numpy as np\n",
    "import warnings\n",
    "import matplotlib.pyplot as plt\n",
    "import seaborn as sns\n",
    "warnings.filterwarnings('ignore')\n",
    "\n",
    "#맥 폰트 \n",
    "# from matplotlib import rc\n",
    "# rc('font', family='AppleGothic')\n",
    "# plt.rcParams['axes.unicode_minus'] = False\n",
    "\n",
    "#윈도우 폰트 \n",
    "from matplotlib import rc\n",
    "rc('font', family='Malgun Gothic')\n",
    "plt.rcParams['axes.unicode_minus'] = False"
   ]
  },
  {
   "cell_type": "markdown",
   "metadata": {},
   "source": [
    "### 국면분할  \n",
    "**확장** : 2002 ,2006, 2007, 2010, 2014, 2015, 2016     \n",
    "**수축** : 2003, 2004, 2008, 2009, 2012     \n",
    "**전환** : 2000, 2001, 2005, 2011, 2013, 2017  "
   ]
  },
  {
   "cell_type": "markdown",
   "metadata": {},
   "source": [
    "<img width=\"930\" alt=\"화면 캡처 2022-07-11 150527\" src=\"https://user-images.githubusercontent.com/99321739/178199192-8eae3896-1d32-483a-a0cc-b738e7e2fe82.png\">\n"
   ]
  },
  {
   "cell_type": "code",
   "execution_count": 7,
   "metadata": {},
   "outputs": [],
   "source": [
    "RAW = pd.read_csv('../Data/origin_labeled.csv',encoding='cp949')\n",
    "RAW['회계년도']=RAW['회계년도'].apply(lambda x : pd.to_datetime(str(x), format='%Y-%m-%d'))\n",
    "RAW.iloc[:,2]=RAW['회계년도'].dt.strftime('%Y')\n",
    "# RAW\n",
    "\n",
    "\n",
    "#정상기업 데이터 내 부도 기업 코드 행 추출하기 위한 리스트 생성\n",
    "ksd = pd.read_csv('../Data/ksd_default.csv',encoding='cp949')"
   ]
  },
  {
   "cell_type": "code",
   "execution_count": 10,
   "metadata": {},
   "outputs": [
    {
     "data": {
      "text/plain": [
       "Index(['회사명', '거래소코드', '회계년도', '유동비율', '차입금의존도', '매출액증가율', '유형자산증가율', '총자본증가율',\n",
       "       '매출액총이익률', '매출액영업이익률', '매출액순이익률', '총자본영업이익률', '자기자본순이익률', '당좌비율',\n",
       "       '부채비율', '재고자산회전률', '매출채권회전률', '총자본회전률', '매입채무회전률', '현금순환주기', 'WCTA',\n",
       "       'RETA', 'TLTA', '이자보상배율', 'vol유동비율', 'vol매출액증가율', 'vol유형자산증가율',\n",
       "       'vol총자본증가율', 'vol매출액총이익률', 'vol매출액영업이익률', 'vol자기자본순이익률', 'vol총자본영업이익률',\n",
       "       'vol당좌비율', 'vol부채비율', 'vol이자보상배율', 'vol재고자산회전률', 'vol매출채권회전률',\n",
       "       'vol총자본회전률', 'vol매입채무회전률', '부도'],\n",
       "      dtype='object')"
      ]
     },
     "execution_count": 10,
     "metadata": {},
     "output_type": "execute_result"
    }
   ],
   "source": [
    "RAW.columns"
   ]
  },
  {
   "cell_type": "markdown",
   "metadata": {},
   "source": [
    "#### 확장기"
   ]
  },
  {
   "cell_type": "code",
   "execution_count": 214,
   "metadata": {},
   "outputs": [],
   "source": [
    "# 확장기 년도로 뽑기 \n",
    "expansion_y =map(str,[2002,2006,2007,2010,2014,2015,2016])\n",
    "expansion = RAW[RAW['회계년도'].isin(expansion_y)]\n",
    "# expansion = expansion.dropna(axis=0)\n",
    "\n",
    "#정상기업\n",
    "expansion_normal = expansion[expansion['부도']==0]\n",
    "expansion_normal.reset_index(drop=True,inplace=True)\n",
    "\n",
    "#부도기업\n",
    "expansion_default = expansion[expansion['부도']==1]\n",
    "expansion_default.reset_index(drop=True,inplace=True)\n"
   ]
  },
  {
   "cell_type": "markdown",
   "metadata": {},
   "source": [
    "확장기 기업 수 확인"
   ]
  },
  {
   "cell_type": "code",
   "execution_count": 216,
   "metadata": {},
   "outputs": [],
   "source": [
    "# 2002\n",
    "norm_02 = expansion_normal[expansion_normal['회계년도']=='2002']\n",
    "default_02 = expansion_default[expansion_default['회계년도']=='2002']\n",
    "\n",
    "# 2006\n",
    "norm_06 = expansion_normal[expansion_normal['회계년도']=='2006']\n",
    "default_06 = expansion_default[expansion_default['회계년도']=='2006']\n",
    "\n",
    "# '2007'\n",
    "norm_07 = expansion_normal[expansion_normal['회계년도']=='2007']\n",
    "default_07 = expansion_default[expansion_default['회계년도']=='2007']\n",
    "\n",
    "# '2010'\n",
    "norm_10 = expansion_normal[expansion_normal['회계년도']=='2010']\n",
    "default_10 = expansion_default[expansion_default['회계년도']=='2010']\n",
    "\n",
    "#'2014'\n",
    "norm_14 = expansion_normal[expansion_normal['회계년도']=='2014']\n",
    "default_14 = expansion_default[expansion_default['회계년도']=='2014']\n",
    "\n",
    "#'2015'\n",
    "norm_15 = expansion_normal[expansion_normal['회계년도']=='2015']\n",
    "default_15 = expansion_default[expansion_default['회계년도']=='2015']\n",
    "\n",
    "# '2016'\n",
    "norm_16 = expansion_normal[expansion_normal['회계년도']=='2016']\n",
    "default_16 = expansion_default[expansion_default['회계년도']=='2016']\n",
    "\n",
    "ex =pd.DataFrame({'정상':[norm_02.shape[0],norm_06.shape[0],norm_07.shape[0],norm_10.shape[0],norm_14.shape[0],norm_15.shape[0],norm_16.shape[0]],\n",
    "              '부도':[default_02.shape[0],default_06.shape[0],default_07.shape[0],default_10.shape[0],default_14.shape[0],default_15.shape[0],default_16.shape[0]]},\n",
    "             index=[2002,2006,2007,2010,2014,2015,2016])"
   ]
  },
  {
   "cell_type": "markdown",
   "metadata": {},
   "source": [
    "#### 수축기 "
   ]
  },
  {
   "cell_type": "code",
   "execution_count": 217,
   "metadata": {},
   "outputs": [],
   "source": [
    "# 수축기 년도로 뽑기 \n",
    "recession_y =map(str,[2003,2004,2008,2009,2012])\n",
    "recession = RAW[RAW['회계년도'].isin(recession_y)]\n",
    "# recession = recession.dropna(axis=0)\n",
    "\n",
    "#정상기업\n",
    "recession_normal = recession[recession['부도']==0]\n",
    "recession_normal.reset_index(drop=True,inplace=True)\n",
    "\n",
    "#부도기업\n",
    "recession_default = recession[recession['부도']==1]\n",
    "recession_default.reset_index(drop=True,inplace=True)"
   ]
  },
  {
   "cell_type": "markdown",
   "metadata": {},
   "source": [
    "수축기 기업 수 확인"
   ]
  },
  {
   "cell_type": "code",
   "execution_count": 218,
   "metadata": {},
   "outputs": [],
   "source": [
    "# 2003\n",
    "norm_03 = recession_normal[recession_normal['회계년도']=='2003']\n",
    "default_03 = recession_default[recession_default['회계년도']=='2003']\n",
    "\n",
    "# 2004\n",
    "norm_04 = recession_normal[recession_normal['회계년도']=='2004']\n",
    "default_04 = recession_default[recession_default['회계년도']=='2004']\n",
    "\n",
    "# '2008'\n",
    "norm_08 = recession_normal[recession_normal['회계년도']=='2008']\n",
    "default_08 = recession_default[recession_default['회계년도']=='2008']\n",
    "\n",
    "# '2009'\n",
    "norm_09 = recession_normal[recession_normal['회계년도']=='2009']\n",
    "default_09 = recession_default[recession_default['회계년도']=='2009']\n",
    "\n",
    "#'2012'\n",
    "norm_12 = recession_normal[recession_normal['회계년도']=='2012']\n",
    "default_12 = recession_default[recession_default['회계년도']=='2012']\n",
    "\n",
    "\n",
    "rc = pd.DataFrame({'정상':[norm_03.shape[0],norm_04.shape[0],norm_08.shape[0],norm_09.shape[0],norm_12.shape[0]],\n",
    "              '부도':[default_03.shape[0],default_04.shape[0],default_08.shape[0],default_09.shape[0],default_12.shape[0]]},\n",
    "             index=[2003,2004,2008,2009,2012])"
   ]
  },
  {
   "cell_type": "markdown",
   "metadata": {},
   "source": [
    "#### 전환기"
   ]
  },
  {
   "cell_type": "code",
   "execution_count": 219,
   "metadata": {},
   "outputs": [],
   "source": [
    "# 전환기 년도로 뽑기 \n",
    "transition_y =map(str,[2000,2001,2005,2011,2013,2017])\n",
    "transition = RAW[RAW['회계년도'].isin(transition_y)]\n",
    "# transition = transition.dropna(axis=0)\n",
    "\n",
    "#정상기업\n",
    "transition_normal = transition[transition['부도']==0]\n",
    "transition_normal.reset_index(drop=True,inplace=True)\n",
    "\n",
    "#부도기업\n",
    "transition_default = transition[transition['부도']==1]\n",
    "transition_default.reset_index(drop=True,inplace=True)\n"
   ]
  },
  {
   "cell_type": "markdown",
   "metadata": {},
   "source": [
    "전환기별 기업 수 확인"
   ]
  },
  {
   "cell_type": "code",
   "execution_count": 220,
   "metadata": {},
   "outputs": [],
   "source": [
    "# 2000\n",
    "norm_00 = transition_normal[transition_normal['회계년도']=='2000']\n",
    "default_00 = transition_default[transition_default['회계년도']=='2000']\n",
    "\n",
    "#2001\n",
    "norm_01 = transition_normal[transition_normal['회계년도']=='2001']\n",
    "default_01 = transition_default[transition_default['회계년도']=='2001']\n",
    "\n",
    "# 2005\n",
    "norm_05 = transition_normal[transition_normal['회계년도']=='2005']\n",
    "default_05 = transition_default[transition_default['회계년도']=='2005']\n",
    "\n",
    "# '2011'\n",
    "norm_11 = transition_normal[transition_normal['회계년도']=='2011']\n",
    "default_11 = transition_default[transition_default['회계년도']=='2011']\n",
    "\n",
    "# '2013'\n",
    "norm_13 = transition_normal[transition_normal['회계년도']=='2013']\n",
    "default_13 = transition_default[transition_default['회계년도']=='2013']\n",
    "\n",
    "#'2017'\n",
    "norm_17 = transition_normal[transition_normal['회계년도']=='2017']\n",
    "default_17 = transition_default[transition_default['회계년도']=='2017']\n",
    "\n",
    "\n",
    "tran = pd.DataFrame({'정상':[norm_00.shape[0],norm_01.shape[0],norm_05.shape[0],norm_11.shape[0],norm_13.shape[0],norm_17.shape[0]],\n",
    "              '부도':[default_00.shape[0],default_01.shape[0],default_05.shape[0],default_11.shape[0],default_13.shape[0],default_17.shape[0]]},\n",
    "             index=[2000,2001,2005,2011,2013,2017])"
   ]
  },
  {
   "cell_type": "markdown",
   "metadata": {},
   "source": [
    "#### 시각화"
   ]
  },
  {
   "cell_type": "code",
   "execution_count": 221,
   "metadata": {},
   "outputs": [],
   "source": [
    "all = pd.concat([ex,rc,tran],axis=0)\n",
    "all =all.sort_index()\n",
    "all = all.reset_index()\n",
    "\n",
    "ex_1 = ex.T\n",
    "ex_1['합'] = ex_1.sum(axis=1)\n",
    "# ex_1.to_csv('../Data/확장기_기업수.csv',encoding='cp949')\n",
    "\n",
    "rc_1 = rc.T\n",
    "rc_1['합'] = rc_1.sum(axis=1)\n",
    "# rc_1.to_csv('../Data/수축기_기업수.csv',encoding='cp949')\n",
    "\n",
    "tran_1 = tran.T\n",
    "tran_1['합'] = tran_1.sum(axis=1)\n",
    "# tran_1.to_csv('../Data/전환기_기업수.csv',encoding='cp949')"
   ]
  },
  {
   "cell_type": "code",
   "execution_count": 225,
   "metadata": {},
   "outputs": [
    {
     "data": {
      "image/png": "[encoded data removed]",
      "text/plain": [
       "<Figure size 720x360 with 1 Axes>"
      ]
     },
     "metadata": {
      "needs_background": "light"
     },
     "output_type": "display_data"
    }
   ],
   "source": [
    "cycle = pd.DataFrame({'정상':[ex['정상'].sum(),rc['정상'].sum(),tran['정상'].sum()],\n",
    "              '부도':[ex['부도'].sum(),rc['부도'].sum(),tran['부도'].sum()]},\n",
    "             index=['확장기','수축기','과도기'])\n",
    "\n",
    "w = 0.1\n",
    "nrow =cycle.shape[0]\n",
    "idx = np.arange(nrow)\n",
    "idx\n",
    "\n",
    "plt.figure(figsize=(10,5))\n",
    "plt.bar(idx-w,cycle['정상'],label = '정상',color ='blue',width=0.15)\n",
    "plt.bar(idx+w,cycle['부도'],label = '부도',color='red',width=0.15)\n",
    "plt.xticks(idx,cycle.index)\n",
    "\n",
    "plt.legend()\n",
    "plt.show()"
   ]
  },
  {
   "cell_type": "code",
   "execution_count": 226,
   "metadata": {},
   "outputs": [
    {
     "data": {
      "text/html": [
       "<div>\n",
       "<style scoped>\n",
       "    .dataframe tbody tr th:only-of-type {\n",
       "        vertical-align: middle;\n",
       "    }\n",
       "\n",
       "    .dataframe tbody tr th {\n",
       "        vertical-align: top;\n",
       "    }\n",
       "\n",
       "    .dataframe thead th {\n",
       "        text-align: right;\n",
       "    }\n",
       "</style>\n",
       "<table border=\"1\" class=\"dataframe\">\n",
       "  <thead>\n",
       "    <tr style=\"text-align: right;\">\n",
       "      <th>index</th>\n",
       "      <th>2000</th>\n",
       "      <th>2001</th>\n",
       "      <th>2002</th>\n",
       "      <th>2003</th>\n",
       "      <th>2004</th>\n",
       "      <th>2005</th>\n",
       "      <th>2006</th>\n",
       "      <th>2007</th>\n",
       "      <th>2008</th>\n",
       "      <th>2009</th>\n",
       "      <th>2010</th>\n",
       "      <th>2011</th>\n",
       "      <th>2012</th>\n",
       "      <th>2013</th>\n",
       "      <th>2014</th>\n",
       "      <th>2015</th>\n",
       "      <th>2016</th>\n",
       "      <th>2017</th>\n",
       "    </tr>\n",
       "  </thead>\n",
       "  <tbody>\n",
       "    <tr>\n",
       "      <th>정상</th>\n",
       "      <td>905</td>\n",
       "      <td>1003</td>\n",
       "      <td>1070</td>\n",
       "      <td>1066</td>\n",
       "      <td>1119</td>\n",
       "      <td>1162</td>\n",
       "      <td>1205</td>\n",
       "      <td>1265</td>\n",
       "      <td>1238</td>\n",
       "      <td>1201</td>\n",
       "      <td>1188</td>\n",
       "      <td>1184</td>\n",
       "      <td>1188</td>\n",
       "      <td>1221</td>\n",
       "      <td>1251</td>\n",
       "      <td>1309</td>\n",
       "      <td>1346</td>\n",
       "      <td>1467</td>\n",
       "    </tr>\n",
       "    <tr>\n",
       "      <th>부도</th>\n",
       "      <td>2</td>\n",
       "      <td>8</td>\n",
       "      <td>14</td>\n",
       "      <td>31</td>\n",
       "      <td>22</td>\n",
       "      <td>2</td>\n",
       "      <td>6</td>\n",
       "      <td>10</td>\n",
       "      <td>35</td>\n",
       "      <td>28</td>\n",
       "      <td>26</td>\n",
       "      <td>17</td>\n",
       "      <td>13</td>\n",
       "      <td>12</td>\n",
       "      <td>7</td>\n",
       "      <td>6</td>\n",
       "      <td>4</td>\n",
       "      <td>6</td>\n",
       "    </tr>\n",
       "  </tbody>\n",
       "</table>\n",
       "</div>"
      ],
      "text/plain": [
       "index  2000  2001  2002  2003  2004  2005  2006  2007  2008  2009  2010  2011  \\\n",
       "정상      905  1003  1070  1066  1119  1162  1205  1265  1238  1201  1188  1184   \n",
       "부도        2     8    14    31    22     2     6    10    35    28    26    17   \n",
       "\n",
       "index  2012  2013  2014  2015  2016  2017  \n",
       "정상     1188  1221  1251  1309  1346  1467  \n",
       "부도       13    12     7     6     4     6  "
      ]
     },
     "execution_count": 226,
     "metadata": {},
     "output_type": "execute_result"
    }
   ],
   "source": [
    "all.set_index('index').T"
   ]
  },
  {
   "cell_type": "code",
   "execution_count": 227,
   "metadata": {},
   "outputs": [
    {
     "data": {
      "image/png": "[encoded data removed]",
      "text/plain": [
       "<Figure size 1368x720 with 2 Axes>"
      ]
     },
     "metadata": {
      "needs_background": "light"
     },
     "output_type": "display_data"
    }
   ],
   "source": [
    "parameters = {'axes.labelsize': 25,\n",
    "          'axes.titlesize': 35,\n",
    "          'xtick.labelsize':20,\n",
    "          'ytick.labelsize':20}\n",
    "plt.rcParams.update(parameters)\n",
    "ax = all.plot(x='index', y=\"정상\", xlabel='',legend=False,figsize=(19,10),linewidth='4',marker='o',markersize='12')\n",
    "ax2 = ax.twinx()\n",
    "all.plot(x='index', y=\"부도\", ax=ax2, legend=False, color=\"r\",linestyle = '--',linewidth='4',marker='o',markersize='12')\n",
    "# plt.rcParams['font.family'] ='Malgun Gothic'\n",
    "plt.xticks(all['index'])\n",
    "# plt.title('국면별 기업 데이터 수')\n",
    "ax.figure.legend(fontsize=20)\n",
    "plt.axvline(x=2000.67,color='gray',linewidth='3')\n",
    "plt.axvline(x=2001.63,color='gray',linewidth='3')\n",
    "plt.axvline(x=2003,color='gray',linewidth='3')\n",
    "plt.axvline(x=2005.3,color='gray',linewidth='3')\n",
    "plt.axvline(x=2008,color='gray',linewidth='3')\n",
    "plt.axvline(x=2009.17,color='gray',linewidth='3')\n",
    "plt.axvline(x=2011.67,color='gray',linewidth='3')\n",
    "plt.axvline(x=2013.25,color='gray',linewidth='3')\n",
    "# plt.axvline(x=2017.75,color='gray')\n",
    "\n",
    "\n",
    "plt.show()"
   ]
  },
  {
   "cell_type": "markdown",
   "metadata": {},
   "source": [
    "#### 국면별 기업 수 최종 확인"
   ]
  },
  {
   "cell_type": "code",
   "execution_count": 228,
   "metadata": {},
   "outputs": [
    {
     "name": "stdout",
     "output_type": "stream",
     "text": [
      "##### 확장기\n",
      "정상 기업 수 : 1778\n",
      "부도 기업 수 : 73\n",
      "##### 수축기\n",
      "정상 기업 수 : 1525\n",
      "부도 기업 수 : 129\n",
      "##### 과도기\n",
      "정상 기업 수 : 1964\n",
      "부도 기업 수 : 47\n"
     ]
    }
   ],
   "source": [
    "print('##### 확장기')\n",
    "print(f'정상 기업 수 : {len(expansion_normal[\"회사명\"].unique())}')\n",
    "print(f'부도 기업 수 : {len(expansion_default[\"회사명\"].unique())}')\n",
    "print('##### 수축기')\n",
    "print(f'정상 기업 수 : {len(recession_normal[\"회사명\"].unique())}')\n",
    "print(f'부도 기업 수 : {len(recession_default[\"회사명\"].unique())}')\n",
    "print('##### 과도기')\n",
    "print(f'정상 기업 수 : {len(transition_normal[\"회사명\"].unique())}')\n",
    "print(f'부도 기업 수 : {len(transition_default[\"회사명\"].unique())}')"
   ]
  },
  {
   "cell_type": "markdown",
   "metadata": {},
   "source": [
    "### 결측치"
   ]
  },
  {
   "cell_type": "code",
   "execution_count": 229,
   "metadata": {},
   "outputs": [
    {
     "name": "stdout",
     "output_type": "stream",
     "text": [
      "--국면별 정상기업 결측치--\n",
      "expansion : 555\n",
      "recession : 212\n",
      "transition : 652\n",
      "\n",
      "--국면별 부도기업 결측치--\n",
      "expansion : 7\n",
      "recession : 0\n",
      "transition : 7\n"
     ]
    }
   ],
   "source": [
    "normal_lst=[expansion_normal,recession_normal,transition_normal]\n",
    "default_lst=[expansion_default,recession_default,transition_default]\n",
    "name_lst = ['expansion','recession','transition']\n",
    "print('--국면별 정상기업 결측치--')\n",
    "for i in range(len(normal_lst)):\n",
    "    print(name_lst[i],':',normal_lst[i].isna().sum().max())\n",
    "print()\n",
    "print('--국면별 부도기업 결측치--')\n",
    "for i in range(len(default_lst)):\n",
    "    print(name_lst[i],':',default_lst[i].isna().sum().max())\n"
   ]
  },
  {
   "cell_type": "code",
   "execution_count": 230,
   "metadata": {},
   "outputs": [
    {
     "name": "stdout",
     "output_type": "stream",
     "text": [
      "--국면별 정상기업 결측치--\n",
      "expansion : 0\n",
      "recession : 0\n",
      "transition : 0\n",
      "\n",
      "--국면별 부도기업 결측치--\n",
      "expansion : 0\n",
      "recession : 0\n",
      "transition : 0\n"
     ]
    }
   ],
   "source": [
    "for i in normal_lst:\n",
    "    i.dropna(axis=0,inplace=True)\n",
    "    \n",
    "for j in default_lst:\n",
    "    j.dropna(axis=0,inplace=True)\n",
    "    \n",
    "print('--국면별 정상기업 결측치--')\n",
    "for i in range(len(normal_lst)):\n",
    "    print(name_lst[i],':',normal_lst[i].isna().sum().max())\n",
    "print()\n",
    "print('--국면별 부도기업 결측치--')\n",
    "for i in range(len(default_lst)):\n",
    "    print(name_lst[i],':',default_lst[i].isna().sum().max())"
   ]
  },
  {
   "cell_type": "markdown",
   "metadata": {},
   "source": [
    "### 이상치"
   ]
  },
  {
   "cell_type": "markdown",
   "metadata": {},
   "source": [
    "#### winsorizing\n",
    "1.inf 값 제거"
   ]
  },
  {
   "cell_type": "code",
   "execution_count": 231,
   "metadata": {},
   "outputs": [
    {
     "name": "stdout",
     "output_type": "stream",
     "text": [
      "--국면별 정상기업 inf 값--\n",
      "expansion : 0\n",
      "recession : 0\n",
      "transition : 0\n",
      "\n",
      "--국면별 부도기업 inf 값--\n",
      "expansion : 0\n",
      "recession : 0\n",
      "transition : 0\n"
     ]
    }
   ],
   "source": [
    "#국면별 inf 값 제거\n",
    "for i in range(len(normal_lst)):\n",
    "    normal_lst[i] = normal_lst[i].replace([np.inf, -np.inf], np.nan)\n",
    "for j in range(len(default_lst)):\n",
    "    default_lst[j] = default_lst[j].replace([np.inf, -np.inf], np.nan)\n",
    "print('--국면별 정상기업 inf 값--')\n",
    "for i in range(len(normal_lst)):\n",
    "    print(name_lst[i],':',normal_lst[i].isin([-np.inf,np.inf]).sum().max())\n",
    "print()\n",
    "print('--국면별 부도기업 inf 값--')\n",
    "for i in range(len(default_lst)):\n",
    "    print(name_lst[i],':',default_lst[i].isin([-np.inf,np.inf]).sum().max())\n",
    "#inf -> nall 결측치 국면별 제거\n",
    "for i in range(len(normal_lst)):\n",
    "    normal_lst[i]= normal_lst[i].dropna(axis=0)\n",
    "for j in range(len(default_lst)):\n",
    "    default_lst[j] = default_lst[j].dropna(axis=0)\n",
    "    \n",
    "expansion_normal=normal_lst[0]\n",
    "recession_normal=normal_lst[1]\n",
    "transition_normal=normal_lst[2]\n",
    "\n",
    "expansion_default =  default_lst[0]\n",
    "recession_default = default_lst[1]\n",
    "transition_default = default_lst[2]"
   ]
  },
  {
   "cell_type": "code",
   "execution_count": 232,
   "metadata": {},
   "outputs": [],
   "source": [
    "# expansion_normal.to_csv('../Data/NA/expansion_normal.csv',index=False,encoding='cp949')\n",
    "# expansion_default.to_csv('../Data/NA/expansion_default.csv',index=False,encoding='cp949')\n",
    "# recession_normal.to_csv('../Data/NA/recession_normal.csv',index=False,encoding='cp949')\n",
    "# recession_default.to_csv('../Data/NA/recession_default.csv',index=False,encoding='cp949')\n",
    "# transition_normal.to_csv('../Data/NA/transition_normal.csv',index=False,encoding='cp949')\n",
    "# transition_default.to_csv('../Data/NA/transition_default.csv',index=False,encoding='cp949')"
   ]
  },
  {
   "cell_type": "markdown",
   "metadata": {},
   "source": [
    "#### Winsorizing"
   ]
  },
  {
   "cell_type": "code",
   "execution_count": 233,
   "metadata": {},
   "outputs": [],
   "source": [
    "expansion_normal = pd.read_csv('../Data/NA/expansion_normal.csv',encoding='cp949')\n",
    "expansion_default = pd.read_csv('../Data/NA/expansion_default.csv',encoding='cp949')\n",
    "\n",
    "recession_normal = pd.read_csv('../Data/NA/recession_normal.csv',encoding='cp949')\n",
    "recession_default = pd.read_csv('../Data/NA/recession_default.csv',encoding='cp949')\n",
    "\n",
    "transition_normal = pd.read_csv('../Data/NA/transition_normal.csv',encoding='cp949')\n",
    "transition_default = pd.read_csv('../Data/NA/transition_default.csv',encoding='cp949')"
   ]
  },
  {
   "cell_type": "code",
   "execution_count": 238,
   "metadata": {},
   "outputs": [],
   "source": [
    "from scipy.stats.mstats import winsorize\n",
    "\n",
    "drop = ['회사명','거래소코드', '회계년도','부도']\n",
    "recession_normal_win = recession_normal.drop(drop,axis=1)\n",
    "for col in recession_normal_win.columns:\n",
    "    recession_normal_win[col] = winsorize(recession_normal_win[col], limits=[0.05, 0.05]) #0.5 값에 대해 윈저라이징 \n",
    "    \n",
    "recession_default_win = recession_default.drop(drop,axis=1)\n",
    "for col in recession_default_win.columns:\n",
    "    recession_default_win[col] = winsorize(recession_default_win[col], limits=[0.05, 0.05]) #0.5 값에 대해 윈저라이징 \n",
    "    \n",
    "expansion_normal_win = expansion_normal.drop(drop,axis=1)\n",
    "for col in expansion_normal_win.columns:\n",
    "    expansion_normal_win[col] = winsorize(expansion_normal_win[col], limits=[0.05, 0.05]) #0.5 값에 대해 윈저라이징 \n",
    "    \n",
    "expansion_default_win = expansion_default.drop(drop,axis=1)\n",
    "for col in expansion_default_win.columns:\n",
    "    expansion_default_win[col] = winsorize(expansion_default_win[col], limits=[0.05, 0.05]) #0.5 값에 대해 윈저라이징 \n",
    "    \n",
    "transition_normal_win = transition_normal.drop(drop,axis=1)\n",
    "for col in transition_normal_win.columns:\n",
    "    transition_normal_win[col] = winsorize(transition_normal_win[col], limits=[0.05, 0.05]) #0.5 값에 대해 윈저라이징 \n",
    "    \n",
    "transition_default_win = transition_default.drop(drop,axis=1)\n",
    "for col in transition_default_win.columns:\n",
    "    transition_default_win[col] = winsorize(transition_default_win[col], limits=[0.05, 0.05]) #0.5 값에 대해 윈저라이징 \n",
    "    \n"
   ]
  },
  {
   "cell_type": "code",
   "execution_count": 239,
   "metadata": {},
   "outputs": [],
   "source": [
    "recession_normal.iloc[:,3:-1] = recession_normal_win\n",
    "recession_default.iloc[:,3:-1] = recession_default_win\n",
    "expansion_normal.iloc[:,3:-1] = expansion_normal_win\n",
    "expansion_default.iloc[:,3:-1] = expansion_default_win\n",
    "transition_normal.iloc[:,3:-1] = transition_normal_win\n",
    "transition_default.iloc[:,3:-1] = transition_default_win"
   ]
  },
  {
   "cell_type": "code",
   "execution_count": 241,
   "metadata": {},
   "outputs": [],
   "source": [
    "# expansion_normal.to_csv('../Data/WIN/expansion_normal_win.csv',index=False,encoding='CP949')\n",
    "# recession_normal.to_csv('../Data/WIN/recession_normal_win.csv',index=False,encoding='CP949')\n",
    "# transition_normal.to_csv('../Data/WIN/transition_normal_win.csv',index=False,encoding='CP949')\n",
    "# expansion_default.to_csv('../Data/WIN/expansion_default_win.csv',index=False,encoding='CP949')\n",
    "# recession_default.to_csv('../Data/WIN/recession_default_win.csv',index=False,encoding='CP949')\n",
    "# transition_default.to_csv('../Data/WIN/transition_default_win.csv',index=False,encoding='CP949')"
   ]
  },
  {
   "cell_type": "markdown",
   "metadata": {},
   "source": []
  }
 ],
 "metadata": {
  "kernelspec": {
   "display_name": "Python 3.6.8 64-bit",
   "language": "python",
   "name": "python3"
  },
  "language_info": {
   "codemirror_mode": {
    "name": "ipython",
    "version": 3
   },
   "file_extension": ".py",
   "mimetype": "text/x-python",
   "name": "python",
   "nbconvert_exporter": "python",
   "pygments_lexer": "ipython3",
   "version": "3.6.8"
  },
  "orig_nbformat": 4,
  "vscode": {
   "interpreter": {
    "hash": "be8cf7e9ad931632694a3fc747a17e7acd2912bf0dbf0b287b5e4772507435a0"
   }
  }
 },
 "nbformat": 4,
 "nbformat_minor": 2
}
