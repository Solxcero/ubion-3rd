{
 "cells": [
  {
   "cell_type": "code",
   "execution_count": 1,
   "metadata": {},
   "outputs": [],
   "source": [
    "import seaborn as sns \n",
    "import numpy as np\n",
    "import pandas as pd \n",
    "import matplotlib.pyplot as plt \n",
    "from scipy.stats.mstats import winsorize\n",
    "# %matplotlib inline\n",
    "\n",
    "#맥 폰트 \n",
    "# from matplotlib import rc\n",
    "# rc('font', family='AppleGothic')\n",
    "# plt.rcParams['axes.unicode_minus'] = False\n",
    "\n",
    "#윈도우 폰트 \n",
    "from matplotlib import rc\n",
    "rc('font', family='Malgun Gothic')\n",
    "plt.rcParams['axes.unicode_minus'] = False\n"
   ]
  },
  {
   "cell_type": "code",
   "execution_count": 2,
   "metadata": {},
   "outputs": [],
   "source": [
    "expansion_normal = pd.read_csv('../Data/NA/expansion_normal.csv',encoding='cp949')\n",
    "expansion_default = pd.read_csv('../Data/NA/expansion_default.csv',encoding='cp949')\n",
    "\n",
    "recession_normal = pd.read_csv('../Data/NA/recession_normal.csv',encoding='cp949')\n",
    "recession_default = pd.read_csv('../Data/NA/recession_default.csv',encoding='cp949')\n",
    "\n",
    "transition_normal = pd.read_csv('../Data/NA/transition_normal.csv',encoding='cp949')\n",
    "transition_default = pd.read_csv('../Data/NA/transition_default.csv',encoding='cp949')\n",
    "\n",
    "\n",
    "all = pd.concat([expansion_normal,expansion_default,recession_normal,recession_default,transition_normal,transition_default],axis=0)\n",
    "all_normal = all[all['부도']==0]\n",
    "all_default = all[all['부도']==1]\n",
    "\n",
    "\n",
    "from scipy.stats.mstats import winsorize\n",
    "\n",
    "drop = ['회사명','거래소코드', '회계년도','부도']\n",
    "all_normal_win = all_normal.drop(drop,axis=1)\n",
    "for col in all_normal_win.columns:\n",
    "    all_normal_win[col] = winsorize(all_normal_win[col], limits=[0.05, 0.05]) #0.5 값에 대해 윈저라이징 \n",
    "all_normal.iloc[:,3:-1] = all_normal_win\n",
    "    \n",
    "all_default_win = all_default.drop(drop,axis=1)\n",
    "for col in all_default_win.columns:\n",
    "    all_default_win[col] = winsorize(all_default_win[col], limits=[0.05, 0.05]) #0.5 값에 대해 윈저라이징 \n",
    "all_default.iloc[:,3:-1] = all_default_win"
   ]
  },
  {
   "cell_type": "code",
   "execution_count": 14,
   "metadata": {},
   "outputs": [
    {
     "name": "stdout",
     "output_type": "stream",
     "text": [
      "['유동비율', '차입금의존도', '매출액증가율', '총자본증가율', '매출액총이익률', '매출액영업이익률', '매출액순이익률', '총자본영업이익률', '자기자본순이익률', '당좌비율', '부채비율', '총자본회전률', '매입채무회전률', '현금순환주기', 'RETA', 'TLTA', '이자보상배율', 'vol유동비율', 'vol유형자산증가율', 'vol총자본증가율', 'vol매출액총이익률', 'vol매출액영업이익률', 'vol자기자본순이익률', 'vol총자본영업이익률', 'vol당좌비율', 'vol부채비율', 'vol이자보상배율', 'vol총자본회전률', 'vol매입채무회전률', '재고자산회전률', '매출채권회전률']\n"
     ]
    }
   ],
   "source": [
    "# Levene's test \n",
    "\n",
    "from scipy.stats import levene\n",
    "levene_list = []\n",
    "all_list_pick = []\n",
    "all_list_drop = []\n",
    "\n",
    "for col in all_normal.iloc[:,3:-1].columns: \n",
    "    a = levene(all_normal.loc[:,col],all_default.loc[:,col])\n",
    "    levene_list.append(a)\n",
    "\n",
    "all = pd.DataFrame(levene_list, index= all_normal.iloc[:,3:-1].columns)\n",
    "s_t_test = all[all['pvalue']>0.05] #H0 귀무가설을 채택 => 등분산성\n",
    "w_t_test = all[all['pvalue']<=0.05] #H1 귀무가설 기각 => 이분산성 \n",
    "\n",
    "\n",
    "\n",
    "from scipy import stats\n",
    "for col in w_t_test.loc[:,'pvalue'].index:\n",
    "    w_t, w_p = stats.ttest_ind(all_normal.loc[:,col], all_default.loc[:,col], equal_var= False)\n",
    "    \n",
    "    # print(\"welch's t test Result\\n ------------------------\")\n",
    "    # # print(f' {col} 이분산 t값은 {w_t:.3f} 이다. ')\n",
    "    # print(f' {col} 이분산 p값은 {w_p:.3f} 이다. ')  \n",
    "    \n",
    "    if w_p <= 0.05 :\n",
    "        # print(\"welch's t test Result\\n ------------------------\")\n",
    "        # print(f' {col} 이분산 t값은 {w_t:.3f} 이다. ')\n",
    "        # print(f' {col} 이분산 p값은 {w_p:.3f} 이다. ')  \n",
    "        all_list_pick.append(col)\n",
    "    else:\n",
    "        all_list_drop.append(col)\n",
    "\n",
    "\n",
    "for col in s_t_test.loc[:,'pvalue'].index:\n",
    "    s_t, s_p = stats.ttest_ind(all_normal.loc[:,col], all_default.loc[:,col], equal_var= True)\n",
    "    \n",
    "                                                                                    #equal_var= False : 이분산 \n",
    "                                                                                    #equal_var= True : 등분산\n",
    "    # print('\\n')\n",
    "    # print(\"student's t test Result\\n ------------------------\")\n",
    "    # # print(f' {col} 등분산 t값은 {s_t:.3f} 이다. ')\n",
    "    # print(f' {col} 등분산 p값은 {s_p:.3f} 이다. ')\n",
    "\n",
    "    if s_p <= 0.05 :\n",
    "        # print('\\n')\n",
    "        # print(\"student's t test Result\\n ------------------------\")\n",
    "        # print(f' {col} 등분산 t값은 {s_t:.3f} 이다. ')\n",
    "        # print(f' {col} 등분산 p값은 {s_p:.3f} 이다. ')\n",
    "        all_list_pick.append(col)\n",
    "    else:\n",
    "        all_list_drop.append(col)\n",
    "\n",
    "print(all_list_pick)\n",
    "\n",
    "# ['유동비율', '차입금의존도', '매출액증가율', '총자본증가율', '매출액총이익률', '매출액영업이익률', '매출액순이익률',\n",
    "# '총자본영업이익률', '자기자본순이익률', '당좌비율', '부채비율', '총자본회전률', '매입채무회전률', '현금순환주기', \n",
    "# 'RETA', 'TLTA', '이자보상배율', 'vol유동비율', 'vol유형자산증가율', 'vol총자본증가율', 'vol매출액총이익률', 'vol매출액영업이익률',\n",
    "# 'vol자기자본순이익률', 'vol총자본영업이익률', 'vol당좌비율', 'vol부채비율', 'vol이자보상배율', 'vol총자본회전률', 'vol매입채무회전률', '재고자산회전률', '매출채권회전률']"
   ]
  },
  {
   "cell_type": "code",
   "execution_count": 16,
   "metadata": {},
   "outputs": [],
   "source": [
    "list = ['유동비율', '차입금의존도', '매출액증가율', '총자본증가율', '매출액총이익률', '매출액영업이익률', '매출액순이익률', '총자본영업이익률', '자기자본순이익률', '당좌비율', '부채비율', '총자본회전률', '매입채무회전률', '현금순환주기', 'RETA', 'TLTA', '이자보상배율', 'vol유동비율', 'vol유형자산증가율', 'vol총자본증가율', 'vol매출액총이익률', 'vol매출액영업이익률', 'vol자기자본순이익률', 'vol총자본영업이익률', 'vol당좌비율', 'vol부채비율', 'vol이자보상배율', 'vol총자본회전률', 'vol매입채무회전률', '재고자산회전률', '매출채권회전률','부도']"
   ]
  },
  {
   "cell_type": "code",
   "execution_count": 17,
   "metadata": {},
   "outputs": [],
   "source": [
    "all = pd.concat([all_normal[list],all_default[list]],axis=0)\n",
    "all_x = all.iloc[:,:-1]\n",
    "all_y = all['부도']\n",
    "all_y.value_counts()"
   ]
  },
  {
   "cell_type": "code",
   "execution_count": 19,
   "metadata": {},
   "outputs": [],
   "source": [
    "from sklearn.model_selection import train_test_split\n",
    "X_train,RAW_X_test,y_train,RAW_y_test = train_test_split(all_x,all_y,test_size = 0.3, stratify = all_y, random_state=1024)\n",
    "\n",
    "from sklearn.preprocessing import StandardScaler\n",
    "from imblearn.over_sampling import SMOTE\n",
    "\n",
    "\n",
    "scaler_std = StandardScaler()\n",
    "\n",
    "\n",
    "X_train_std = scaler_std.fit_transform(X_train)\n",
    "X_test_std = scaler_std.transform(RAW_X_test)\n",
    "X_test_std=pd.DataFrame(X_test_std)\n",
    "X_test_std.columns = all_x.columns\n",
    "\n",
    "\n",
    "sm = SMOTE(sampling_strategy={1:int(y_train.value_counts().iloc[0]/2),0:y_train.value_counts().iloc[0]},random_state=1024)\n",
    "# train데이터를 넣어 복제함\n",
    "\n",
    "\n",
    "X_train_std = pd.DataFrame(X_train_std)\n",
    "X_resampled_std, y_resampled_std = sm.fit_resample(X_train_std,y_train)\n",
    "X_resampled_std.columns = all_x.columns\n",
    "\n",
    "print('After OverSampling, the shape of train_X: {}'.format(X_resampled_std.shape))\n",
    "print('After OverSampling, the shape of train_y: {} \\n'.format(y_resampled_std.shape))\n",
    "print('StandardScaler - SMOTE 적용 후 값의 분포 :\\n',y_resampled_std.value_counts())\n",
    "\n",
    "\n"
   ]
  },
  {
   "cell_type": "markdown",
   "metadata": {},
   "source": [
    "### 변수선정"
   ]
  },
  {
   "cell_type": "markdown",
   "metadata": {},
   "source": [
    "### 상관계수"
   ]
  },
  {
   "cell_type": "code",
   "execution_count": 21,
   "metadata": {},
   "outputs": [
    {
     "name": "stdout",
     "output_type": "stream",
     "text": [
      "0.979\n",
      "0.713\n"
     ]
    },
    {
     "data": {
      "image/png": "[encoded data removed]",
      "text/plain": [
       "<Figure size 576x432 with 1 Axes>"
      ]
     },
     "metadata": {
      "needs_background": "light"
     },
     "output_type": "display_data"
    }
   ],
   "source": [
    "from sklearn.tree import  DecisionTreeClassifier\n",
    "\n",
    "tree = DecisionTreeClassifier(ccp_alpha=0.001, criterion='entropy', max_depth=9,\n",
    "                       max_features='auto', random_state=1024)\n",
    "tree.fit(X_resampled_std,y_resampled_std)\n",
    "score_tr = tree.score(X_resampled_std,y_resampled_std)\n",
    "score_te = tree.score(RAW_X_test,RAW_y_test)\n",
    "\n",
    "print('{:.3f}'.format(score_tr))\n",
    "# 1.000\n",
    "print('{:.3f}'.format(score_te))\n",
    "\n",
    "feature_imp = tree.feature_importances_\n",
    "\n",
    "dt_seires= pd.Series(feature_imp,index=X_resampled_std.columns)\n",
    "dt_top10=dt_seires.sort_values(ascending=False)[:10]\n",
    "\n",
    "plt.figure(figsize=(8,6))\n",
    "plt.title('Expansion_std_Feature Importance')\n",
    "sns.barplot(x=dt_top10,y=dt_top10.index)\n",
    "plt.show()"
   ]
  },
  {
   "cell_type": "code",
   "execution_count": 22,
   "metadata": {},
   "outputs": [],
   "source": [
    "ex_dt_std = pd.DataFrame(dt_top10,columns=['Top10 Expansion DT Feature Importances(std)'])"
   ]
  },
  {
   "cell_type": "code",
   "execution_count": 30,
   "metadata": {},
   "outputs": [
    {
     "name": "stdout",
     "output_type": "stream",
     "text": [
      "0.981\n",
      "0.402\n"
     ]
    },
    {
     "data": {
      "image/png": "[encoded data removed]",
      "text/plain": [
       "<Figure size 576x432 with 1 Axes>"
      ]
     },
     "metadata": {
      "needs_background": "light"
     },
     "output_type": "display_data"
    }
   ],
   "source": [
    "from sklearn.ensemble import RandomForestClassifier\n",
    "\n",
    "tree = RandomForestClassifier(max_depth=9, n_estimators=90, random_state=1024)\n",
    "tree.fit(X_resampled_std,y_resampled_std)\n",
    "score_tr = tree.score(X_resampled_std,y_resampled_std)\n",
    "score_te = tree.score(RAW_X_test,RAW_y_test)\n",
    "\n",
    "print('{:.3f}'.format(score_tr))\n",
    "# 1.000\n",
    "print('{:.3f}'.format(score_te))\n",
    "\n",
    "\n",
    "feature_imp = tree.feature_importances_\n",
    "\n",
    "dt_seires= pd.Series(feature_imp,index=X_resampled_std.columns)\n",
    "dt_top10=dt_seires.sort_values(ascending=False)[:10]\n",
    "\n",
    "plt.figure(figsize=(8,6))\n",
    "plt.title('Expansion RF_std Feature Importance')\n",
    "sns.barplot(x=dt_top10,y=dt_top10.index)\n",
    "plt.show()"
   ]
  },
  {
   "cell_type": "code",
   "execution_count": 31,
   "metadata": {},
   "outputs": [],
   "source": [
    "ex_rf_std = pd.DataFrame(dt_top10,columns=['Top10 Expansion RF Feature Importances(std)'])\n"
   ]
  },
  {
   "cell_type": "code",
   "execution_count": 25,
   "metadata": {},
   "outputs": [
    {
     "name": "stderr",
     "output_type": "stream",
     "text": [
      "c:\\Users\\rumbi\\AppData\\Local\\Programs\\Python\\Python36\\lib\\site-packages\\sklearn\\linear_model\\_logistic.py:765: ConvergenceWarning: lbfgs failed to converge (status=1):\n",
      "STOP: TOTAL NO. of ITERATIONS REACHED LIMIT.\n",
      "\n",
      "Increase the number of iterations (max_iter) or scale the data as shown in:\n",
      "    https://scikit-learn.org/stable/modules/preprocessing.html\n",
      "Please also refer to the documentation for alternative solver options:\n",
      "    https://scikit-learn.org/stable/modules/linear_model.html#logistic-regression\n",
      "  extra_warning_msg=_LOGISTIC_SOLVER_CONVERGENCE_MSG)\n",
      "c:\\Users\\rumbi\\AppData\\Local\\Programs\\Python\\Python36\\lib\\site-packages\\sklearn\\linear_model\\_logistic.py:765: ConvergenceWarning: lbfgs failed to converge (status=1):\n",
      "STOP: TOTAL NO. of ITERATIONS REACHED LIMIT.\n",
      "\n",
      "Increase the number of iterations (max_iter) or scale the data as shown in:\n",
      "    https://scikit-learn.org/stable/modules/preprocessing.html\n",
      "Please also refer to the documentation for alternative solver options:\n",
      "    https://scikit-learn.org/stable/modules/linear_model.html#logistic-regression\n",
      "  extra_warning_msg=_LOGISTIC_SOLVER_CONVERGENCE_MSG)\n",
      "c:\\Users\\rumbi\\AppData\\Local\\Programs\\Python\\Python36\\lib\\site-packages\\sklearn\\linear_model\\_logistic.py:765: ConvergenceWarning: lbfgs failed to converge (status=1):\n",
      "STOP: TOTAL NO. of ITERATIONS REACHED LIMIT.\n",
      "\n",
      "Increase the number of iterations (max_iter) or scale the data as shown in:\n",
      "    https://scikit-learn.org/stable/modules/preprocessing.html\n",
      "Please also refer to the documentation for alternative solver options:\n",
      "    https://scikit-learn.org/stable/modules/linear_model.html#logistic-regression\n",
      "  extra_warning_msg=_LOGISTIC_SOLVER_CONVERGENCE_MSG)\n",
      "c:\\Users\\rumbi\\AppData\\Local\\Programs\\Python\\Python36\\lib\\site-packages\\sklearn\\linear_model\\_logistic.py:765: ConvergenceWarning: lbfgs failed to converge (status=1):\n",
      "STOP: TOTAL NO. of ITERATIONS REACHED LIMIT.\n",
      "\n",
      "Increase the number of iterations (max_iter) or scale the data as shown in:\n",
      "    https://scikit-learn.org/stable/modules/preprocessing.html\n",
      "Please also refer to the documentation for alternative solver options:\n",
      "    https://scikit-learn.org/stable/modules/linear_model.html#logistic-regression\n",
      "  extra_warning_msg=_LOGISTIC_SOLVER_CONVERGENCE_MSG)\n"
     ]
    },
    {
     "data": {
      "text/plain": [
       "array([ 1,  6, 14, 13, 26, 25,  1,  4,  1,  1, 19, 15,  5, 24,  8,  1,  1,\n",
       "       17, 18, 10, 16, 11,  2,  3, 23, 20,  7, 12, 22,  9, 21])"
      ]
     },
     "execution_count": 25,
     "metadata": {},
     "output_type": "execute_result"
    }
   ],
   "source": [
    "from sklearn.feature_selection import RFE\n",
    "\n",
    "from sklearn.linear_model import LogisticRegression\n",
    "lr = LogisticRegression()\n",
    "# 모델 입력, n_features_to_select: 골라낼 변수의 수, step: 한번에 몇개씩 제거할지 선택\n",
    "rfe = RFE(lr, n_features_to_select=6, step=1)\n",
    "X_resampled_std_logit = pd.DataFrame(X_resampled_std)\n",
    "model = rfe.fit(X_resampled_std,y_resampled_std)\n",
    "# 선택될 변수\n",
    "model.support_\n",
    "# 변수 중요도(숫자 높을수록 불필요하다)\n",
    "model.ranking_"
   ]
  },
  {
   "cell_type": "code",
   "execution_count": 26,
   "metadata": {},
   "outputs": [],
   "source": [
    "rank = model.ranking_.tolist()\n",
    "\n",
    "lr_rank = pd.DataFrame(rank ,index = [X_resampled_std.columns],columns=['rank(std)'])\n",
    "lr_rank.sort_values(by='rank(std)',inplace=True)\n",
    "lr_rank_std = lr_rank.iloc[:22]\n",
    "# lr_rank.iloc[:6].to_csv('../Data/features/lr_std.csv', encoding='cp949')"
   ]
  },
  {
   "cell_type": "code",
   "execution_count": 28,
   "metadata": {},
   "outputs": [
    {
     "name": "stderr",
     "output_type": "stream",
     "text": [
      "c:\\Users\\rumbi\\AppData\\Local\\Programs\\Python\\Python36\\lib\\site-packages\\xgboost\\sklearn.py:1224: UserWarning: The use of label encoder in XGBClassifier is deprecated and will be removed in a future release. To remove this warning, do the following: 1) Pass option use_label_encoder=False when constructing XGBClassifier object; and 2) Encode your labels (y) as integers starting with 0, i.e. 0, 1, 2, ..., [num_class - 1].\n",
      "  warnings.warn(label_encoder_deprecation_msg, UserWarning)\n"
     ]
    },
    {
     "name": "stdout",
     "output_type": "stream",
     "text": [
      "[14:29:11] WARNING: C:/Users/Administrator/workspace/xgboost-win64_release_1.5.1/src/learner.cc:1115: Starting in XGBoost 1.3.0, the default evaluation metric used with the objective 'binary:logistic' was changed from 'error' to 'logloss'. Explicitly set eval_metric if you'd like to restore the old behavior.\n",
      "0.954\n",
      "0.465\n"
     ]
    },
    {
     "data": {
      "image/png": "[encoded data removed]",
      "text/plain": [
       "<Figure size 576x432 with 1 Axes>"
      ]
     },
     "metadata": {
      "needs_background": "light"
     },
     "output_type": "display_data"
    }
   ],
   "source": [
    "import xgboost\n",
    "from xgboost import XGBClassifier\n",
    "X_train,X_test,y_train,y_test = train_test_split(X_resampled_std,y_resampled_std,test_size=0.2)\n",
    "xg = XGBClassifier(base_score=0.5, booster='gbtree', colsample_bylevel=1,\n",
    "              colsample_bynode=1, colsample_bytree=1, enable_categorical=False,\n",
    "              gamma=0.5, gpu_id=-1, importance_type=None,\n",
    "              interaction_constraints='', learning_rate=0.01, max_delta_step=0,\n",
    "              max_depth=3, min_child_weight=1,\n",
    "              monotone_constraints='()', n_estimators=12, n_jobs=8,\n",
    "              num_parallel_tree=1, predictor='auto', random_state=99,\n",
    "              reg_alpha=0, reg_lambda=1, scale_pos_weight=1, subsample=1,\n",
    "              tree_method='exact', validate_parameters=1, verbosity=None)\n",
    "# reg_alpha=1\n",
    "xg.fit(X_resampled_std,y_resampled_std)\n",
    "score_tr = xg.score(X_resampled_std,y_resampled_std)\n",
    "score_te = xg.score(RAW_X_test,RAW_y_test)\n",
    "print('{:.3f}'.format(score_tr))\n",
    "# 1.000\n",
    "print('{:.3f}'.format(score_te))\n",
    "feature_imp =xg.feature_importances_\n",
    "dt_seires= pd.Series(feature_imp,index=X_resampled_std.columns)\n",
    "dt_top10=dt_seires.sort_values(ascending=False)[:10]\n",
    "plt.figure(figsize=(8,6))\n",
    "plt.title('Recession XGB Feature Importance(min)')\n",
    "sns.barplot(x=dt_top10,y=dt_top10.index)\n",
    "plt.show()"
   ]
  },
  {
   "cell_type": "code",
   "execution_count": 29,
   "metadata": {},
   "outputs": [],
   "source": [
    "ex_xgb_std = pd.DataFrame(dt_top10,columns=['Top10 Expansion XGBoost Feature Importances(std)'])\n",
    "ex_xgb_std = ex_xgb_std.iloc[:3]\n",
    "ex_xgb_std"
   ]
  },
  {
   "cell_type": "code",
   "execution_count": 44,
   "metadata": {},
   "outputs": [],
   "source": [
    "a = pd.concat([ex_dt_std,ex_rf_std,ex_xgb_std],axis=1)  #lr_rank_std,ex_xgb_std"
   ]
  },
  {
   "cell_type": "code",
   "execution_count": 58,
   "metadata": {},
   "outputs": [],
   "source": [
    "lr_rank_std.reset_index(inplace=True)"
   ]
  },
  {
   "cell_type": "code",
   "execution_count": 63,
   "metadata": {},
   "outputs": [],
   "source": [
    "b = pd.merge(a,lr_rank_std,left_index=True, right_on='level_0', how='left')\n",
    "b.set_index('level_0',inplace=True)"
   ]
  },
  {
   "cell_type": "code",
   "execution_count": 65,
   "metadata": {},
   "outputs": [
    {
     "data": {
      "text/html": [
       "<div>\n",
       "<style scoped>\n",
       "    .dataframe tbody tr th:only-of-type {\n",
       "        vertical-align: middle;\n",
       "    }\n",
       "\n",
       "    .dataframe tbody tr th {\n",
       "        vertical-align: top;\n",
       "    }\n",
       "\n",
       "    .dataframe thead th {\n",
       "        text-align: right;\n",
       "    }\n",
       "</style>\n",
       "<table border=\"1\" class=\"dataframe\">\n",
       "  <thead>\n",
       "    <tr style=\"text-align: right;\">\n",
       "      <th></th>\n",
       "      <th>Top10 Expansion DT Feature Importances(std)</th>\n",
       "      <th>Top10 Expansion RF Feature Importances(std)</th>\n",
       "      <th>Top10 Expansion XGBoost Feature Importances(std)</th>\n",
       "      <th>rank(std)</th>\n",
       "    </tr>\n",
       "    <tr>\n",
       "      <th>level_0</th>\n",
       "      <th></th>\n",
       "      <th></th>\n",
       "      <th></th>\n",
       "      <th></th>\n",
       "    </tr>\n",
       "  </thead>\n",
       "  <tbody>\n",
       "    <tr>\n",
       "      <th>매출액순이익률</th>\n",
       "      <td>0.450529</td>\n",
       "      <td>0.155623</td>\n",
       "      <td>NaN</td>\n",
       "      <td>1.0</td>\n",
       "    </tr>\n",
       "    <tr>\n",
       "      <th>TLTA</th>\n",
       "      <td>0.170678</td>\n",
       "      <td>0.146999</td>\n",
       "      <td>0.284491</td>\n",
       "      <td>1.0</td>\n",
       "    </tr>\n",
       "    <tr>\n",
       "      <th>RETA</th>\n",
       "      <td>0.096568</td>\n",
       "      <td>0.143811</td>\n",
       "      <td>0.413209</td>\n",
       "      <td>8.0</td>\n",
       "    </tr>\n",
       "    <tr>\n",
       "      <th>매출액증가율</th>\n",
       "      <td>0.063020</td>\n",
       "      <td>NaN</td>\n",
       "      <td>NaN</td>\n",
       "      <td>14.0</td>\n",
       "    </tr>\n",
       "    <tr>\n",
       "      <th>vol자기자본순이익률</th>\n",
       "      <td>0.048879</td>\n",
       "      <td>0.058605</td>\n",
       "      <td>NaN</td>\n",
       "      <td>2.0</td>\n",
       "    </tr>\n",
       "    <tr>\n",
       "      <th>vol매출액총이익률</th>\n",
       "      <td>0.045680</td>\n",
       "      <td>NaN</td>\n",
       "      <td>NaN</td>\n",
       "      <td>16.0</td>\n",
       "    </tr>\n",
       "    <tr>\n",
       "      <th>이자보상배율</th>\n",
       "      <td>0.032639</td>\n",
       "      <td>0.039319</td>\n",
       "      <td>NaN</td>\n",
       "      <td>1.0</td>\n",
       "    </tr>\n",
       "    <tr>\n",
       "      <th>vol당좌비율</th>\n",
       "      <td>0.017750</td>\n",
       "      <td>NaN</td>\n",
       "      <td>NaN</td>\n",
       "      <td>NaN</td>\n",
       "    </tr>\n",
       "    <tr>\n",
       "      <th>매출액영업이익률</th>\n",
       "      <td>0.015233</td>\n",
       "      <td>0.033452</td>\n",
       "      <td>NaN</td>\n",
       "      <td>NaN</td>\n",
       "    </tr>\n",
       "    <tr>\n",
       "      <th>총자본증가율</th>\n",
       "      <td>0.010999</td>\n",
       "      <td>0.053201</td>\n",
       "      <td>NaN</td>\n",
       "      <td>13.0</td>\n",
       "    </tr>\n",
       "    <tr>\n",
       "      <th>자기자본순이익률</th>\n",
       "      <td>NaN</td>\n",
       "      <td>0.091083</td>\n",
       "      <td>0.221479</td>\n",
       "      <td>1.0</td>\n",
       "    </tr>\n",
       "    <tr>\n",
       "      <th>총자본영업이익률</th>\n",
       "      <td>NaN</td>\n",
       "      <td>0.057403</td>\n",
       "      <td>NaN</td>\n",
       "      <td>4.0</td>\n",
       "    </tr>\n",
       "    <tr>\n",
       "      <th>차입금의존도</th>\n",
       "      <td>NaN</td>\n",
       "      <td>0.050933</td>\n",
       "      <td>NaN</td>\n",
       "      <td>6.0</td>\n",
       "    </tr>\n",
       "  </tbody>\n",
       "</table>\n",
       "</div>"
      ],
      "text/plain": [
       "             Top10 Expansion DT Feature Importances(std)  \\\n",
       "level_0                                                    \n",
       "매출액순이익률                                         0.450529   \n",
       "TLTA                                            0.170678   \n",
       "RETA                                            0.096568   \n",
       "매출액증가율                                          0.063020   \n",
       "vol자기자본순이익률                                     0.048879   \n",
       "vol매출액총이익률                                      0.045680   \n",
       "이자보상배율                                          0.032639   \n",
       "vol당좌비율                                         0.017750   \n",
       "매출액영업이익률                                        0.015233   \n",
       "총자본증가율                                          0.010999   \n",
       "자기자본순이익률                                             NaN   \n",
       "총자본영업이익률                                             NaN   \n",
       "차입금의존도                                               NaN   \n",
       "\n",
       "             Top10 Expansion RF Feature Importances(std)  \\\n",
       "level_0                                                    \n",
       "매출액순이익률                                         0.155623   \n",
       "TLTA                                            0.146999   \n",
       "RETA                                            0.143811   \n",
       "매출액증가율                                               NaN   \n",
       "vol자기자본순이익률                                     0.058605   \n",
       "vol매출액총이익률                                           NaN   \n",
       "이자보상배율                                          0.039319   \n",
       "vol당좌비율                                              NaN   \n",
       "매출액영업이익률                                        0.033452   \n",
       "총자본증가율                                          0.053201   \n",
       "자기자본순이익률                                        0.091083   \n",
       "총자본영업이익률                                        0.057403   \n",
       "차입금의존도                                          0.050933   \n",
       "\n",
       "             Top10 Expansion XGBoost Feature Importances(std)  rank(std)  \n",
       "level_0                                                                   \n",
       "매출액순이익률                                                   NaN        1.0  \n",
       "TLTA                                                 0.284491        1.0  \n",
       "RETA                                                 0.413209        8.0  \n",
       "매출액증가율                                                    NaN       14.0  \n",
       "vol자기자본순이익률                                               NaN        2.0  \n",
       "vol매출액총이익률                                                NaN       16.0  \n",
       "이자보상배율                                                    NaN        1.0  \n",
       "vol당좌비율                                                   NaN        NaN  \n",
       "매출액영업이익률                                                  NaN        NaN  \n",
       "총자본증가율                                                    NaN       13.0  \n",
       "자기자본순이익률                                             0.221479        1.0  \n",
       "총자본영업이익률                                                  NaN        4.0  \n",
       "차입금의존도                                                    NaN        6.0  "
      ]
     },
     "execution_count": 65,
     "metadata": {},
     "output_type": "execute_result"
    }
   ],
   "source": [
    "b"
   ]
  },
  {
   "cell_type": "code",
   "execution_count": 68,
   "metadata": {},
   "outputs": [],
   "source": [
    "select = ['매출액순이익률', 'TLTA', 'RETA', '매출액증가율', 'vol자기자본순이익률', 'vol매출액총이익률',\n",
    "       '이자보상배율', '매출액영업이익률', '총자본증가율', '자기자본순이익률', '총자본영업이익률',\n",
    "       '차입금의존도']"
   ]
  },
  {
   "cell_type": "markdown",
   "metadata": {},
   "source": [
    "#### 상관계수보기"
   ]
  },
  {
   "cell_type": "code",
   "execution_count": 70,
   "metadata": {},
   "outputs": [],
   "source": [
    "corr = all[select].corr()"
   ]
  },
  {
   "cell_type": "code",
   "execution_count": 73,
   "metadata": {},
   "outputs": [
    {
     "data": {
      "text/plain": [
       "<AxesSubplot:>"
      ]
     },
     "execution_count": 73,
     "metadata": {},
     "output_type": "execute_result"
    },
    {
     "data": {
      "image/png": "[encoded data removed]",
      "text/plain": [
       "<Figure size 1080x1080 with 2 Axes>"
      ]
     },
     "metadata": {
      "needs_background": "light"
     },
     "output_type": "display_data"
    }
   ],
   "source": [
    "plt.figure(figsize=(15,15))\n",
    "sns.heatmap(corr,annot=True)\n"
   ]
  },
  {
   "cell_type": "markdown",
   "metadata": {},
   "source": [
    "### 예측모델"
   ]
  },
  {
   "cell_type": "code",
   "execution_count": 74,
   "metadata": {},
   "outputs": [],
   "source": [
    "select_final =  ['매출액순이익률', 'TLTA', '매출액증가율', 'vol자기자본순이익률', 'vol매출액총이익률',\n",
    "       '이자보상배율', '총자본증가율', '자기자본순이익률']"
   ]
  },
  {
   "cell_type": "code",
   "execution_count": 101,
   "metadata": {},
   "outputs": [],
   "source": [
    "X_resampled=X_resampled_std[select_final]\n",
    "X_test=RAW_X_test[select_final]\n",
    "y_resampled = pd.DataFrame(y_resampled_std)\n",
    "y_test = pd.DataFrame(RAW_y_test)\n",
    "X_test.reset_index(drop=True,inplace=True)\n",
    "y_test.reset_index(drop=True,inplace=True)"
   ]
  },
  {
   "cell_type": "code",
   "execution_count": 96,
   "metadata": {},
   "outputs": [
    {
     "data": {
      "text/plain": [
       "(18726, 8)"
      ]
     },
     "execution_count": 96,
     "metadata": {},
     "output_type": "execute_result"
    }
   ],
   "source": [
    "X_resampled.shape"
   ]
  },
  {
   "cell_type": "code",
   "execution_count": 97,
   "metadata": {},
   "outputs": [
    {
     "data": {
      "text/plain": [
       "(18726, 1)"
      ]
     },
     "execution_count": 97,
     "metadata": {},
     "output_type": "execute_result"
    }
   ],
   "source": [
    "y_resampled.shape"
   ]
  },
  {
   "cell_type": "code",
   "execution_count": 98,
   "metadata": {},
   "outputs": [
    {
     "data": {
      "text/plain": [
       "(5420, 8)"
      ]
     },
     "execution_count": 98,
     "metadata": {},
     "output_type": "execute_result"
    }
   ],
   "source": [
    "X_test.shape"
   ]
  },
  {
   "cell_type": "code",
   "execution_count": 102,
   "metadata": {},
   "outputs": [
    {
     "data": {
      "text/plain": [
       "(5420, 1)"
      ]
     },
     "execution_count": 102,
     "metadata": {},
     "output_type": "execute_result"
    }
   ],
   "source": [
    "y_test.shape"
   ]
  },
  {
   "cell_type": "code",
   "execution_count": 103,
   "metadata": {},
   "outputs": [],
   "source": [
    "from sklearn.metrics import roc_curve, roc_auc_score, precision_recall_curve, accuracy_score, f1_score\n",
    "from sklearn.svm import SVC\n",
    "from sklearn.linear_model import LinearRegression,  LogisticRegression\n",
    "from sklearn.ensemble import AdaBoostClassifier\n",
    "from sklearn.ensemble import GradientBoostingClassifier\n",
    "from xgboost import XGBClassifier\n",
    "from xgboost import plot_importance\n",
    "# from lightgbm import LGBMClassifier\n",
    "from sklearn.neural_network import MLPClassifier\n",
    "from sklearn.neighbors import KNeighborsClassifier\n",
    "from sklearn.svm import SVC\n",
    "from sklearn.gaussian_process import GaussianProcessClassifier\n",
    "from sklearn.gaussian_process.kernels import RBF\n",
    "from sklearn.tree import DecisionTreeClassifier\n",
    "from sklearn.ensemble import RandomForestClassifier, AdaBoostClassifier\n",
    "from sklearn.naive_bayes import GaussianNB\n",
    "from sklearn.discriminant_analysis import QuadraticDiscriminantAnalysis\n",
    "from tqdm.notebook import tqdm\n",
    "from sklearn.preprocessing import Binarizer\n",
    "from sklearn.metrics import recall_score, precision_score\n",
    "from sklearn.model_selection import GridSearchCV\n",
    "\n",
    "# df = pd.DataFrame(columns =['models','Accuracy','Precision', 'Recall', 'F1 score','Auc_Score'])\n",
    "\n",
    "\n",
    "\n",
    "class Model_Optimization():\n",
    "\n",
    "      def __init__(self):\n",
    "            \n",
    "            global model_df\n",
    "            model_df = pd.DataFrame(columns =['thresholds','models','Accuracy','Precision', 'Recall', 'F1 score','Auc_Score']) \n",
    "\n",
    "\n",
    "      #최적 파라미터 찾는 함수\n",
    "      def grid(self,model_name, X_train=X_resampled, y_train=y_resampled, X_test=X_test,y_test=y_test):\n",
    "            global model_df\n",
    "\n",
    "            self.model_name = model_name\n",
    "            self.X_test = X_test\n",
    "            self.y_test = y_test\n",
    "            self.X_train = X_train\n",
    "            self.y_train  = y_train\n",
    "\n",
    "            if model_name == \"DecisionTreeClassifier\":\n",
    "                  dt = DecisionTreeClassifier()\n",
    "                  parameters = [{\"max_depth\": [3,5,7], \"min_samples_split\":[3,5,7]}]\n",
    "                  \n",
    "            elif model_name == \"RandomForestClassifier\":\n",
    "                  dt = RandomForestClassifier()\n",
    "                  parameters = [{\"max_depth\": [3,5,7], \"min_samples_split\":[3,5,7]}]\n",
    "                  \n",
    "            elif model_name == \"LogisticRegression\":\n",
    "                  dt = LogisticRegression()\n",
    "                  parameters = {'penalty':['l2', 'l1'],\n",
    "                  'C':[0.01, 0.1, 1, 5, 10]}\n",
    "                  \n",
    "            elif model_name == \"Linear SVM\": \n",
    "                  dt = SVC(probability=True)\n",
    "                  parameters = [{'kernel':['linear'], 'C':[0.001, 0.01, 0.025, 0.1, 1, 10, 100]}]\n",
    "                  \n",
    "            elif model_name == \"RBF SVM\": \n",
    "                  dt = SVC(probability=True)\n",
    "                  parameters = [{'gamma':[0.001, 0.01, 0.1, 1, 10, 100],'kernel':['rbf'],'C':[0.001, 0.01, 0.025, 0.1, 1, 10, 100]}]\n",
    "\n",
    "            elif model_name == \"AdaBoostClassifier\":\n",
    "                  dt= AdaBoostClassifier(random_state=0)\n",
    "                  parameters={'n_estimators':[5]}\n",
    "                  \n",
    "            elif model_name == \"GradientBoostingClassifier\":\n",
    "                  dt=GradientBoostingClassifier(random_state=0)\n",
    "                  parameters = {\n",
    "                  'n_estimators' : [100, 500],\n",
    "                  'learning_rate' : [0.05, 0.1]\n",
    "                              }\n",
    "\n",
    "            elif model_name == \"XGBClassifier\":\n",
    "                  dt=XGBClassifier(random_state=0,verbose=1)\n",
    "                  parameters={'n_estimators':[100, 500], 'learning_rate':[0.05, 0.1], 'max_depth':[3,4]}\n",
    "                  \n",
    "            # elif model_name == \"LGBMClassifier\":\n",
    "            #       dt=LGBMClassifier(random_state=0)\n",
    "            #       parameters={'n_estimators':[400,800], 'learning_rate':[0.05, 0.1] , 'max_depth':[3,4]}\n",
    "            \n",
    "            elif model_name == \"KNeighborsClassifier\":\n",
    "                  dt = KNeighborsClassifier()\n",
    "                  parameters = {'n_neighbors':[3]}\n",
    "                  \n",
    "            elif model_name == 'MLPClassifier':\n",
    "                  dt = MLPClassifier(random_state=0)\n",
    "                  parameters={'max_iter':[1000], 'hidden_layer_sizes':[1], 'activation':['logistic'],\n",
    "                              'solver':['sgd'], 'alpha':[0.01], 'batch_size':[32],\n",
    "                              'learning_rate_init':[0.1], 'max_iter':[500]}\n",
    "                  \n",
    "            elif model_name == 'GaussianProcessClassifier':\n",
    "                  dt = GaussianProcessClassifier(random_state=0)\n",
    "                  parameters={'kernel': [1.0*RBF(1.0)]}\n",
    "                  \n",
    "            elif model_name == 'GaussianNB':\n",
    "                  dt = GaussianNB()\n",
    "                  parameters={}\n",
    "                  \n",
    "            elif model_name =='QuadraticDiscriminantAnalysis':\n",
    "                  #선형판별분석\n",
    "                  dt = QuadraticDiscriminantAnalysis()\n",
    "                  parameters={}\n",
    "                  \n",
    "            # 최적 파라미터 찾기 \n",
    "            self.grid_dt  = GridSearchCV(dt, param_grid = parameters, cv=5, refit =True, n_jobs=-1)\n",
    "            self.grid_dt.fit(self.X_train, self.y_train)\n",
    "            \n",
    "            print(f\"모델명: {model_name}\")\n",
    "            print(f\"학습 데이터 최적 파라미터\\n: {self.grid_dt.best_params_}\")\n",
    "            print(f\"학습 데이터 최고 정확도\\n: {self.grid_dt.best_score_:.3f}\")\n",
    "\n",
    "            #지도학습 알고리즘 \n",
    "            estimator = self.grid_dt.best_estimator_\n",
    "            y_pred = pd.DataFrame(estimator.predict(self.X_test))\n",
    "            y_pred_probability = pd.DataFrame(estimator.predict_proba(self.X_test))\n",
    "            # print(f\"예측 정확도\\n: {accuracy_score(self.y_test, y_pred):.3f}\")\n",
    "\n",
    "            prediction = pd.concat([y_pred_probability, y_pred], axis = 1)\n",
    "\n",
    "            prediction.columns = [\"Negative(0)\", \"Positive(1)\", \"y_pred\"]\n",
    "\n",
    "            print(prediction)\n",
    "            self.pred_proba_1 = np.array(prediction[\"Positive(1)\"]).reshape(-1, 1)\n",
    "            self.accuracy= round(accuracy_score(self.y_test, y_pred),3)\n",
    "            self.FPRs, self.TPRs, self.thresholds = roc_curve(self.y_test, self.pred_proba_1)\n",
    "            \n",
    "            return estimator\n",
    "\n",
    "\n",
    "\n",
    "      # 단일 모델 임계치별 score 출력 하는 함수 *주의  self.thresholds 값 내부 리스트 수정해줘야함 \n",
    "      def get_thresholds_score(self):\n",
    "            global model_df\n",
    "\n",
    "            \n",
    "            self.thresholds = [0.1, 0.2 , 0.3, 0.4, 0.5, 0.6, 0.7, 0.8, 0.9]\n",
    "\n",
    "            #평가지표용 리스트생성\n",
    "            precisions = []\n",
    "            recalls = []\n",
    "            f1_scores = []\n",
    "            auc_scores=[]\n",
    "            threshold_ =[]\n",
    "            \n",
    "            \n",
    "            \n",
    "            for threshold in self.thresholds:\n",
    "                  binarizer = Binarizer(threshold= threshold)\n",
    "                  # print(threshold)\n",
    "                  # 임계점 지정하여 Binariazer() 객체 생성\n",
    "                  pred_proba = binarizer.fit_transform(self.pred_proba_1)\n",
    "                  # print(pred_proba)\n",
    "                  # 임계점을 기준으로 데이터 변환\n",
    "\n",
    "                  precision = precision_score(self.y_test, pred_proba)\n",
    "                  recall = recall_score(self.y_test, pred_proba)\n",
    "                  f1score = f1_score(self.y_test, pred_proba)\n",
    "                  auc_score=roc_auc_score(self.y_test, self.pred_proba_1)\n",
    "\n",
    "                  precisions.append(precision)\n",
    "                  recalls.append(recall)\n",
    "                  f1_scores.append(f1score)\n",
    "                  auc_scores.append(auc_score)\n",
    "                  threshold_.append(threshold)\n",
    "                  \n",
    "\n",
    "            results = pd.DataFrame(data = {\"thresholds\":threshold_, \"models\":self.model_name,\"Accuracy\":self.accuracy,\"Precision\": precisions,\n",
    "                                          \"Recall\": recalls,\n",
    "                                          \"F1 score\": f1_scores,\"Auc_Score\":auc_scores}, index = self.thresholds)                 \n",
    "\n",
    "            print(f'단일 모델 results : {results}')      \n",
    "            return results\n",
    "\n",
    "\n",
    "\n",
    "\n",
    "      #모든 모델 성능 비교 함수 \n",
    "      def get_model_socre(self,input_list):\n",
    "            global model_df \n",
    "\n",
    "            mod = Model_Optimization()\n",
    "            for i in tqdm(input_list):\n",
    "                  mod.grid(model_name=i)\n",
    "                  results_df = mod.get_thresholds_score()\n",
    "\n",
    "                  #평가지표 데이터 프레임화 \n",
    "                  print(results_df)\n",
    "                  #기준 평가지표로 정렬\n",
    "                  results_df.sort_values(\"F1 score\", ascending=False, inplace=True)\n",
    "                  new_model_df= results_df.iloc[:1]\n",
    "                  model_df = pd.concat([model_df,new_model_df])\n",
    "                  \n",
    "            return model_df"
   ]
  },
  {
   "cell_type": "code",
   "execution_count": 106,
   "metadata": {},
   "outputs": [
    {
     "data": {
      "application/vnd.jupyter.widget-view+json": {
       "model_id": "d21d0cc3484942ebbe243b6cfc1cf25c",
       "version_major": 2,
       "version_minor": 0
      },
      "text/plain": [
       "  0%|          | 0/2 [00:00<?, ?it/s]"
      ]
     },
     "metadata": {},
     "output_type": "display_data"
    },
    {
     "name": "stderr",
     "output_type": "stream",
     "text": [
      "c:\\Users\\rumbi\\AppData\\Local\\Programs\\Python\\Python36\\lib\\site-packages\\xgboost\\sklearn.py:1224: UserWarning: The use of label encoder in XGBClassifier is deprecated and will be removed in a future release. To remove this warning, do the following: 1) Pass option use_label_encoder=False when constructing XGBClassifier object; and 2) Encode your labels (y) as integers starting with 0, i.e. 0, 1, 2, ..., [num_class - 1].\n",
      "  warnings.warn(label_encoder_deprecation_msg, UserWarning)\n",
      "c:\\Users\\rumbi\\AppData\\Local\\Programs\\Python\\Python36\\lib\\site-packages\\sklearn\\utils\\validation.py:63: DataConversionWarning: A column-vector y was passed when a 1d array was expected. Please change the shape of y to (n_samples, ), for example using ravel().\n",
      "  return f(*args, **kwargs)\n"
     ]
    },
    {
     "name": "stdout",
     "output_type": "stream",
     "text": [
      "[17:10:37] WARNING: C:/Users/Administrator/workspace/xgboost-win64_release_1.5.1/src/learner.cc:576: \n",
      "Parameters: { \"verbose\" } might not be used.\n",
      "\n",
      "  This could be a false alarm, with some parameters getting used by language bindings but\n",
      "  then being mistakenly passed down to XGBoost core, or some parameter actually being used\n",
      "  but getting flagged wrongly here. Please open an issue if you find any such cases.\n",
      "\n",
      "\n",
      "[17:10:37] WARNING: C:/Users/Administrator/workspace/xgboost-win64_release_1.5.1/src/learner.cc:1115: Starting in XGBoost 1.3.0, the default evaluation metric used with the objective 'binary:logistic' was changed from 'error' to 'logloss'. Explicitly set eval_metric if you'd like to restore the old behavior.\n",
      "모델명: XGBClassifier\n",
      "학습 데이터 최적 파라미터\n",
      ": {'learning_rate': 0.1, 'max_depth': 4, 'n_estimators': 500}\n",
      "학습 데이터 최고 정확도\n",
      ": 0.996\n",
      "      Negative(0)  Positive(1)  y_pred\n",
      "0        0.000501     0.999499     1.0\n",
      "1        0.806002     0.193998     0.0\n",
      "2        0.999936     0.000064     0.0\n",
      "3        0.999589     0.000411     0.0\n",
      "4        0.885184     0.114816     0.0\n",
      "...           ...          ...     ...\n",
      "5415     0.999829     0.000171     0.0\n",
      "5416     0.973645     0.026355     0.0\n",
      "5417     0.999964     0.000036     0.0\n",
      "5418     0.999973     0.000027     0.0\n",
      "5419     0.973645     0.026355     0.0\n",
      "\n",
      "[5420 rows x 3 columns]\n",
      "단일 모델 results :      thresholds         models  Accuracy  Precision    Recall  F1 score  \\\n",
      "0.1         0.1  XGBClassifier     0.703   0.034670  0.927536  0.066841   \n",
      "0.2         0.2  XGBClassifier     0.703   0.036077  0.927536  0.069452   \n",
      "0.3         0.3  XGBClassifier     0.703   0.036845  0.927536  0.070875   \n",
      "0.4         0.4  XGBClassifier     0.703   0.037559  0.927536  0.072194   \n",
      "0.5         0.5  XGBClassifier     0.703   0.038323  0.927536  0.073606   \n",
      "0.6         0.6  XGBClassifier     0.703   0.039001  0.927536  0.074854   \n",
      "0.7         0.7  XGBClassifier     0.703   0.039555  0.927536  0.075874   \n",
      "0.8         0.8  XGBClassifier     0.703   0.039873  0.913043  0.076410   \n",
      "0.9         0.9  XGBClassifier     0.703   0.041257  0.913043  0.078947   \n",
      "\n",
      "     Auc_Score  \n",
      "0.1   0.856907  \n",
      "0.2   0.856907  \n",
      "0.3   0.856907  \n",
      "0.4   0.856907  \n",
      "0.5   0.856907  \n",
      "0.6   0.856907  \n",
      "0.7   0.856907  \n",
      "0.8   0.856907  \n",
      "0.9   0.856907  \n",
      "     thresholds         models  Accuracy  Precision    Recall  F1 score  \\\n",
      "0.1         0.1  XGBClassifier     0.703   0.034670  0.927536  0.066841   \n",
      "0.2         0.2  XGBClassifier     0.703   0.036077  0.927536  0.069452   \n",
      "0.3         0.3  XGBClassifier     0.703   0.036845  0.927536  0.070875   \n",
      "0.4         0.4  XGBClassifier     0.703   0.037559  0.927536  0.072194   \n",
      "0.5         0.5  XGBClassifier     0.703   0.038323  0.927536  0.073606   \n",
      "0.6         0.6  XGBClassifier     0.703   0.039001  0.927536  0.074854   \n",
      "0.7         0.7  XGBClassifier     0.703   0.039555  0.927536  0.075874   \n",
      "0.8         0.8  XGBClassifier     0.703   0.039873  0.913043  0.076410   \n",
      "0.9         0.9  XGBClassifier     0.703   0.041257  0.913043  0.078947   \n",
      "\n",
      "     Auc_Score  \n",
      "0.1   0.856907  \n",
      "0.2   0.856907  \n",
      "0.3   0.856907  \n",
      "0.4   0.856907  \n",
      "0.5   0.856907  \n",
      "0.6   0.856907  \n",
      "0.7   0.856907  \n",
      "0.8   0.856907  \n",
      "0.9   0.856907  \n"
     ]
    },
    {
     "name": "stderr",
     "output_type": "stream",
     "text": [
      "c:\\Users\\rumbi\\AppData\\Local\\Programs\\Python\\Python36\\lib\\site-packages\\sklearn\\model_selection\\_search.py:880: DataConversionWarning: A column-vector y was passed when a 1d array was expected. Please change the shape of y to (n_samples,), for example using ravel().\n",
      "  self.best_estimator_.fit(X, y, **fit_params)\n"
     ]
    },
    {
     "name": "stdout",
     "output_type": "stream",
     "text": [
      "모델명: RandomForestClassifier\n",
      "학습 데이터 최적 파라미터\n",
      ": {'max_depth': 7, 'min_samples_split': 5}\n",
      "학습 데이터 최고 정확도\n",
      ": 0.969\n",
      "      Negative(0)  Positive(1)  y_pred\n",
      "0        0.000000     1.000000     1.0\n",
      "1        0.550000     0.450000     0.0\n",
      "2        0.994516     0.005484     0.0\n",
      "3        0.589717     0.410283     0.0\n",
      "4        0.599214     0.400786     0.0\n",
      "...           ...          ...     ...\n",
      "5415     0.599235     0.400765     0.0\n",
      "5416     0.630000     0.370000     0.0\n",
      "5417     0.867254     0.132746     0.0\n",
      "5418     0.650000     0.350000     0.0\n",
      "5419     0.630000     0.370000     0.0\n",
      "\n",
      "[5420 rows x 3 columns]\n",
      "단일 모델 results :      thresholds                  models  Accuracy  Precision    Recall  \\\n",
      "0.1         0.1  RandomForestClassifier     0.679   0.014490  1.000000   \n",
      "0.2         0.2  RandomForestClassifier     0.679   0.016919  0.971014   \n",
      "0.3         0.3  RandomForestClassifier     0.679   0.017641  0.971014   \n",
      "0.4         0.4  RandomForestClassifier     0.679   0.026131  0.971014   \n",
      "0.5         0.5  RandomForestClassifier     0.679   0.035595  0.927536   \n",
      "0.6         0.6  RandomForestClassifier     0.679   0.037915  0.927536   \n",
      "0.7         0.7  RandomForestClassifier     0.679   0.040885  0.884058   \n",
      "0.8         0.8  RandomForestClassifier     0.679   0.045419  0.840580   \n",
      "0.9         0.9  RandomForestClassifier     0.679   0.047737  0.840580   \n",
      "\n",
      "     F1 score  Auc_Score  \n",
      "0.1  0.028566   0.849201  \n",
      "0.2  0.033259   0.849201  \n",
      "0.3  0.034652   0.849201  \n",
      "0.4  0.050893   0.849201  \n",
      "0.5  0.068559   0.849201  \n",
      "0.6  0.072851   0.849201  \n",
      "0.7  0.078155   0.849201  \n",
      "0.8  0.086181   0.849201  \n",
      "0.9  0.090343   0.849201  \n",
      "     thresholds                  models  Accuracy  Precision    Recall  \\\n",
      "0.1         0.1  RandomForestClassifier     0.679   0.014490  1.000000   \n",
      "0.2         0.2  RandomForestClassifier     0.679   0.016919  0.971014   \n",
      "0.3         0.3  RandomForestClassifier     0.679   0.017641  0.971014   \n",
      "0.4         0.4  RandomForestClassifier     0.679   0.026131  0.971014   \n",
      "0.5         0.5  RandomForestClassifier     0.679   0.035595  0.927536   \n",
      "0.6         0.6  RandomForestClassifier     0.679   0.037915  0.927536   \n",
      "0.7         0.7  RandomForestClassifier     0.679   0.040885  0.884058   \n",
      "0.8         0.8  RandomForestClassifier     0.679   0.045419  0.840580   \n",
      "0.9         0.9  RandomForestClassifier     0.679   0.047737  0.840580   \n",
      "\n",
      "     F1 score  Auc_Score  \n",
      "0.1  0.028566   0.849201  \n",
      "0.2  0.033259   0.849201  \n",
      "0.3  0.034652   0.849201  \n",
      "0.4  0.050893   0.849201  \n",
      "0.5  0.068559   0.849201  \n",
      "0.6  0.072851   0.849201  \n",
      "0.7  0.078155   0.849201  \n",
      "0.8  0.086181   0.849201  \n",
      "0.9  0.090343   0.849201  \n"
     ]
    },
    {
     "data": {
      "text/html": [
       "<div>\n",
       "<style scoped>\n",
       "    .dataframe tbody tr th:only-of-type {\n",
       "        vertical-align: middle;\n",
       "    }\n",
       "\n",
       "    .dataframe tbody tr th {\n",
       "        vertical-align: top;\n",
       "    }\n",
       "\n",
       "    .dataframe thead th {\n",
       "        text-align: right;\n",
       "    }\n",
       "</style>\n",
       "<table border=\"1\" class=\"dataframe\">\n",
       "  <thead>\n",
       "    <tr style=\"text-align: right;\">\n",
       "      <th></th>\n",
       "      <th>thresholds</th>\n",
       "      <th>models</th>\n",
       "      <th>Accuracy</th>\n",
       "      <th>Precision</th>\n",
       "      <th>Recall</th>\n",
       "      <th>F1 score</th>\n",
       "      <th>Auc_Score</th>\n",
       "    </tr>\n",
       "  </thead>\n",
       "  <tbody>\n",
       "    <tr>\n",
       "      <th>0.9</th>\n",
       "      <td>0.9</td>\n",
       "      <td>XGBClassifier</td>\n",
       "      <td>0.703</td>\n",
       "      <td>0.041257</td>\n",
       "      <td>0.913043</td>\n",
       "      <td>0.078947</td>\n",
       "      <td>0.856907</td>\n",
       "    </tr>\n",
       "    <tr>\n",
       "      <th>0.9</th>\n",
       "      <td>0.9</td>\n",
       "      <td>RandomForestClassifier</td>\n",
       "      <td>0.679</td>\n",
       "      <td>0.047737</td>\n",
       "      <td>0.840580</td>\n",
       "      <td>0.090343</td>\n",
       "      <td>0.849201</td>\n",
       "    </tr>\n",
       "  </tbody>\n",
       "</table>\n",
       "</div>"
      ],
      "text/plain": [
       "     thresholds                  models  Accuracy  Precision    Recall  \\\n",
       "0.9         0.9           XGBClassifier     0.703   0.041257  0.913043   \n",
       "0.9         0.9  RandomForestClassifier     0.679   0.047737  0.840580   \n",
       "\n",
       "     F1 score  Auc_Score  \n",
       "0.9  0.078947   0.856907  \n",
       "0.9  0.090343   0.849201  "
      ]
     },
     "execution_count": 106,
     "metadata": {},
     "output_type": "execute_result"
    }
   ],
   "source": [
    "list = ['XGBClassifier','RandomForestClassifier']\n",
    "model = Model_Optimization()\n",
    "model.get_model_socre(list)\n",
    "model_df"
   ]
  },
  {
   "cell_type": "code",
   "execution_count": 107,
   "metadata": {},
   "outputs": [],
   "source": [
    "model_df.to_csv('../Data/result/전체기간.csv',index=False, encoding='cp949')"
   ]
  },
  {
   "cell_type": "code",
   "execution_count": null,
   "metadata": {},
   "outputs": [],
   "source": []
  }
 ],
 "metadata": {
  "kernelspec": {
   "display_name": "Python 3.6.8 64-bit",
   "language": "python",
   "name": "python3"
  },
  "language_info": {
   "codemirror_mode": {
    "name": "ipython",
    "version": 3
   },
   "file_extension": ".py",
   "mimetype": "text/x-python",
   "name": "python",
   "nbconvert_exporter": "python",
   "pygments_lexer": "ipython3",
   "version": "3.6.8"
  },
  "orig_nbformat": 4,
  "vscode": {
   "interpreter": {
    "hash": "be8cf7e9ad931632694a3fc747a17e7acd2912bf0dbf0b287b5e4772507435a0"
   }
  }
 },
 "nbformat": 4,
 "nbformat_minor": 2
}
